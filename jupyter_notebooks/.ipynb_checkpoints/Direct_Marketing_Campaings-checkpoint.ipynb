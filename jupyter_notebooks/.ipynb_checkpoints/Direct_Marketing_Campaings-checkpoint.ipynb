{
 "cells": [
  {
   "cell_type": "markdown",
   "metadata": {},
   "source": [
    "# Binary Classification of Direct Marketing Campaign Subscriptions: A Logistic Regression & Random Forest Approach\n",
    "#### Author: Georgios Spyrou (<a href=\"https://github.com/gpsyrou\" style=\"text-decoration: none\">github</a>)\n",
    "#### Completion Date: 02/06/2021\n",
    "\n",
    "<img src=\"../project_picture.jpg\" style=\"vertical-align:middle;margin:0px 0px\">\n",
    "\n",
    "## Sections\n",
    "- <a href='#Introduction' style=\"text-decoration: none\">Introduction </a>\n",
    "- <a href='#initial' style=\"text-decoration: none\">Data Import, Cleaning and Exploratory Data Analysis (EDA) </a> \n",
    "  - <a href='#import_data' style=\"text-decoration: none\">Set up project folder and load data</a>\n",
    "  - <a href='#data_cleaning' style=\"text-decoration: none\">Data cleaning</a>\n",
    "  - <a href='#eda' style=\"text-decoration: none\">Exploratory Data Analysis</a>\n",
    "- <a href='#data_preprocessing' style=\"text-decoration: none\">Data Preprocessing</a> \n",
    "- <a href='#model_evaluation_metrics' style=\"text-decoration: none\">Evaluation Metrics</a> \n",
    "  - <a href='#recall_precision' style=\"text-decoration: none\">Precision and Recall</a>\n",
    "  - <a href='#roc' style=\"text-decoration: none\">Receiver Operating Characteristics (ROC) analysis</a>\n",
    "- <a href='#classification_models' style=\"text-decoration: none\">Classification Models</a> \n",
    "    - <a href='#random_forest' style=\"text-decoration: none\">Random Forest</a>\n",
    "        - <a href='#feature_importance' style=\"text-decoration: none\">Feature Importance</a>\n",
    "    - <a href='#logistic_regression' style=\"text-decoration: none\">Logistic Regression</a>\n",
    "- <a href='#model_comparison' style=\"text-decoration: none\">Model Comparison and Final Thoughts</a> "
   ]
  },
  {
   "cell_type": "markdown",
   "metadata": {},
   "source": [
    "<a id='Introduction'></a>\n",
    "## Project Description"
   ]
  },
  {
   "cell_type": "markdown",
   "metadata": {},
   "source": [
    "Purpose of this project is to analyze a dataset containing information about marketing campaigns that were conducted via phone calls from a Portuguese banking institution to their clients. The main goal of these campaigns was to prompt their clients to subscribe for a specific financial product of the bank (term deposit). After each call was conducted, the client had to inform the institution about their intention of either subscribing to the product (indicating a successful campaign) or not (unsucessful campaign).\n",
    "\n",
    "Our main task in this project is to create effective machine learning algorithms that are able to predict the probability of a client subscribing to the bank's product. We should note that, even though we are talking about calculating probabilites, we will create classification algorithms - meaning that the final output of our models will be a binary result indicating if the client subscribed ('yes') to the product or not ('no').\n",
    "\n",
    "The dataset has 41188 rows (instances of calls to clients) and 21 columns (variables) which are describing certain aspects of the call. Please note that there are cases where the same client was contacted multiple times - something that practically doesn't affect our analysis as each call will be considered independent from each other, even if the client is the same. "
   ]
  },
  {
   "cell_type": "markdown",
   "metadata": {},
   "source": [
    "### Description of the features\n",
    "\n",
    "The predictor variables (features) contained in the dataset can be divided into the following five sections:\n",
    "\n",
    "1. Variables that describing attributes related directly to the client:\n",
    "\n",
    "    a. **_age_** <br>\n",
    "    b. **_job_**: type of job (e.g. 'admin', 'technician', 'unemployed', etc) <br>\n",
    "    c. **_marital_**: marital status ('married', 'single', 'divorced', 'unknown') <br>\n",
    "    d. **_education_**: level of education ('basic.4y', 'high.school', 'basic.6y', 'basic.9y','professional.course', 'unknown','university.degree','illiterate') <br>\n",
    "    e. **_default_**: if the client has credit in default ('no', 'unknown', 'yes') <br>\n",
    "    f. **_housing_**: if the client has housing a loan ('no', 'unknown', 'yes')<br>\n",
    "    g. **_loan_**: if the client has a personal loan ? ('no', 'unknown', 'yes')<br>\n",
    "    <br>\n",
    "2. Variables related to the last contact of the current campaign:\n",
    "\n",
    "    a. **_contact_**: type of communication ('telephone', 'cellular') <br>\n",
    "    b. **_month_**: month of last contact <br>\n",
    "    c. **<em>day\\_of\\_week</em>**: day of last contact <br>\n",
    "    d. **_duration_**: call duration (in seconds) <br>\n",
    "    <br>\n",
    "3. Other variables related to the campaign(s):\n",
    "\n",
    "    a. **_campaign_**: number of contacts performed during this campaign and for this client <br>\n",
    "    b. **_pdays_**: number of days passed by after the client was last contacted from a previous campaign <br>\n",
    "    c. **_previous_**: number of contacts performed before this campaign and for this client <br>\n",
    "    d. **_poutcome_**: outcome of previous marketing campaign ('nonexistent', 'failure', 'success') <br>\n",
    "    <br>   \n",
    "4. Socioeconomic variables:\n",
    "\n",
    "    a. **_emp.var.rate_**: employement variation rate - quarterly indicator <br>\n",
    "    b. **_cons.price.idx_**: consumer price index - monthly indicator <br>\n",
    "    c. **_cons.conf.idx_**: consumer confidence index - monthly indicator <br>\n",
    "    d. **_euribor3m_**: euribor 3 month rate - daily indicator <br>\n",
    "    e. **_nr.employed_**: number of employees - quarterly indicator <br>\n",
    "      \n",
    "Of course, the dataset also containts the variable **_subscribed_** which is the target variable of the project, indicating if the client subscribed to the product (_'yes'_) or not (_'no'_).\n",
    "\n",
    "Now that we got a brief understanding of what the project is about, what variables the dataset contains and what is the primary goal, we can start with the main part of our analysis. At the first part of this project we will perform all the regular operations needed in pretty much any data science project: load the dataset into a dataframe, search for corrupt/inaccurate records & perform data cleaning operations, and finally perform exploratoty data analysis to identify interesting patterns in the data that might be useful when creating the machine learning algorithms."
   ]
  },
  {
   "cell_type": "markdown",
   "metadata": {},
   "source": [
    "<a id='initial'></a>\n",
    "## Part 1 - Data Import, Cleaning and Exploratory Data Analysis (EDA)"
   ]
  },
  {
   "cell_type": "markdown",
   "metadata": {},
   "source": [
    "<a id='import_data'></a>\n",
    "First step is to import the relevant libraries that we will use across the whole project, set the project directory where all files are located and load the main dataset into a dataframe."
   ]
  },
  {
   "cell_type": "code",
   "execution_count": 36,
   "metadata": {},
   "outputs": [],
   "source": [
    "import os\n",
    "import numpy as np\n",
    "import pandas as pd\n",
    "from typing import List\n",
    "\n",
    "import warnings\n",
    "warnings.filterwarnings('ignore')\n",
    "\n",
    "import matplotlib.pyplot as plt\n",
    "import seaborn as sns\n",
    "from scipy.stats import norm\n",
    "\n",
    "# Data Preprocessing\n",
    "from sklearn.preprocessing import MinMaxScaler\n",
    "from sklearn.model_selection import train_test_split, GridSearchCV\n",
    "\n",
    "# Classifiers\n",
    "from sklearn.ensemble import RandomForestClassifier\n",
    "from sklearn.linear_model import LogisticRegression\n",
    "\n",
    "# Evaluation metrics\n",
    "from sklearn.metrics import confusion_matrix, roc_curve, roc_auc_score\n",
    "\n",
    "sns.set_style(\"dark\")"
   ]
  },
  {
   "cell_type": "markdown",
   "metadata": {},
   "source": [
    "Project set-up and data loading:"
   ]
  },
  {
   "cell_type": "code",
   "execution_count": 2,
   "metadata": {},
   "outputs": [],
   "source": [
    "# Location of the project folder and the dataset (csv file)\n",
    "project_folder = r'D:\\GitHub\\Projects\\Marketing_Campaigns'\n",
    "data_file_ext = r'Data\\bank_marketing_campaigns_full.csv'\n",
    "\n",
    "os.chdir(project_folder)\n",
    "\n",
    "data_file_loc = os.path.join(project_folder, data_file_ext)"
   ]
  },
  {
   "cell_type": "code",
   "execution_count": 3,
   "metadata": {},
   "outputs": [],
   "source": [
    "bank_marketing_df = pd.read_csv(data_file_loc, sep=';', header=[0])"
   ]
  },
  {
   "cell_type": "code",
   "execution_count": 4,
   "metadata": {},
   "outputs": [
    {
     "data": {
      "text/plain": [
       "Index(['age', 'job', 'marital', 'education', 'default', 'housing', 'loan',\n",
       "       'contact', 'month', 'day_of_week', 'duration', 'campaign', 'pdays',\n",
       "       'previous', 'poutcome', 'emp.var.rate', 'cons.price.idx',\n",
       "       'cons.conf.idx', 'euribor3m', 'nr.employed', 'y'],\n",
       "      dtype='object')"
      ]
     },
     "execution_count": 4,
     "metadata": {},
     "output_type": "execute_result"
    }
   ],
   "source": [
    "bank_marketing_df.columns"
   ]
  },
  {
   "cell_type": "markdown",
   "metadata": {},
   "source": [
    "We can observe that the last column of the dataset ('y') is the target variable which indicates if a client ended up subscribing to the product or not. The initial naming of this column that it's coming from the dataset is not very self-explanatory, so we will rename it to something more relevant."
   ]
  },
  {
   "cell_type": "code",
   "execution_count": 5,
   "metadata": {},
   "outputs": [],
   "source": [
    "bank_marketing_df.rename(columns={'y': 'subscribed'}, inplace=True)"
   ]
  },
  {
   "cell_type": "markdown",
   "metadata": {},
   "source": [
    "Finally we can see the specific datatype of each column in the dataset:"
   ]
  },
  {
   "cell_type": "code",
   "execution_count": 6,
   "metadata": {},
   "outputs": [],
   "source": [
    "def getDatatypeSummaryForDataframe(input_df: pd.DataFrame, return_df=True) -> None:\n",
    "    df_col_datatypes = pd.DataFrame(input_df.dtypes).reset_index()\n",
    "    df_col_datatypes.columns = ['Column_Name', 'Datatype']    \n",
    "    print(df_col_datatypes.groupby('Datatype').count())\n",
    "    if return_df:\n",
    "        return df_col_datatypes"
   ]
  },
  {
   "cell_type": "code",
   "execution_count": 7,
   "metadata": {},
   "outputs": [
    {
     "name": "stdout",
     "output_type": "stream",
     "text": [
      "          Column_Name\n",
      "Datatype             \n",
      "int64               5\n",
      "float64             5\n",
      "object             11\n"
     ]
    },
    {
     "data": {
      "text/html": [
       "<div>\n",
       "<style scoped>\n",
       "    .dataframe tbody tr th:only-of-type {\n",
       "        vertical-align: middle;\n",
       "    }\n",
       "\n",
       "    .dataframe tbody tr th {\n",
       "        vertical-align: top;\n",
       "    }\n",
       "\n",
       "    .dataframe thead th {\n",
       "        text-align: right;\n",
       "    }\n",
       "</style>\n",
       "<table border=\"1\" class=\"dataframe\">\n",
       "  <thead>\n",
       "    <tr style=\"text-align: right;\">\n",
       "      <th></th>\n",
       "      <th>Column_Name</th>\n",
       "      <th>Datatype</th>\n",
       "    </tr>\n",
       "  </thead>\n",
       "  <tbody>\n",
       "    <tr>\n",
       "      <th>0</th>\n",
       "      <td>age</td>\n",
       "      <td>int64</td>\n",
       "    </tr>\n",
       "    <tr>\n",
       "      <th>1</th>\n",
       "      <td>job</td>\n",
       "      <td>object</td>\n",
       "    </tr>\n",
       "    <tr>\n",
       "      <th>2</th>\n",
       "      <td>marital</td>\n",
       "      <td>object</td>\n",
       "    </tr>\n",
       "    <tr>\n",
       "      <th>3</th>\n",
       "      <td>education</td>\n",
       "      <td>object</td>\n",
       "    </tr>\n",
       "    <tr>\n",
       "      <th>4</th>\n",
       "      <td>default</td>\n",
       "      <td>object</td>\n",
       "    </tr>\n",
       "    <tr>\n",
       "      <th>5</th>\n",
       "      <td>housing</td>\n",
       "      <td>object</td>\n",
       "    </tr>\n",
       "    <tr>\n",
       "      <th>6</th>\n",
       "      <td>loan</td>\n",
       "      <td>object</td>\n",
       "    </tr>\n",
       "    <tr>\n",
       "      <th>7</th>\n",
       "      <td>contact</td>\n",
       "      <td>object</td>\n",
       "    </tr>\n",
       "    <tr>\n",
       "      <th>8</th>\n",
       "      <td>month</td>\n",
       "      <td>object</td>\n",
       "    </tr>\n",
       "    <tr>\n",
       "      <th>9</th>\n",
       "      <td>day_of_week</td>\n",
       "      <td>object</td>\n",
       "    </tr>\n",
       "    <tr>\n",
       "      <th>10</th>\n",
       "      <td>duration</td>\n",
       "      <td>int64</td>\n",
       "    </tr>\n",
       "    <tr>\n",
       "      <th>11</th>\n",
       "      <td>campaign</td>\n",
       "      <td>int64</td>\n",
       "    </tr>\n",
       "    <tr>\n",
       "      <th>12</th>\n",
       "      <td>pdays</td>\n",
       "      <td>int64</td>\n",
       "    </tr>\n",
       "    <tr>\n",
       "      <th>13</th>\n",
       "      <td>previous</td>\n",
       "      <td>int64</td>\n",
       "    </tr>\n",
       "    <tr>\n",
       "      <th>14</th>\n",
       "      <td>poutcome</td>\n",
       "      <td>object</td>\n",
       "    </tr>\n",
       "    <tr>\n",
       "      <th>15</th>\n",
       "      <td>emp.var.rate</td>\n",
       "      <td>float64</td>\n",
       "    </tr>\n",
       "    <tr>\n",
       "      <th>16</th>\n",
       "      <td>cons.price.idx</td>\n",
       "      <td>float64</td>\n",
       "    </tr>\n",
       "    <tr>\n",
       "      <th>17</th>\n",
       "      <td>cons.conf.idx</td>\n",
       "      <td>float64</td>\n",
       "    </tr>\n",
       "    <tr>\n",
       "      <th>18</th>\n",
       "      <td>euribor3m</td>\n",
       "      <td>float64</td>\n",
       "    </tr>\n",
       "    <tr>\n",
       "      <th>19</th>\n",
       "      <td>nr.employed</td>\n",
       "      <td>float64</td>\n",
       "    </tr>\n",
       "    <tr>\n",
       "      <th>20</th>\n",
       "      <td>subscribed</td>\n",
       "      <td>object</td>\n",
       "    </tr>\n",
       "  </tbody>\n",
       "</table>\n",
       "</div>"
      ],
      "text/plain": [
       "       Column_Name Datatype\n",
       "0              age    int64\n",
       "1              job   object\n",
       "2          marital   object\n",
       "3        education   object\n",
       "4          default   object\n",
       "5          housing   object\n",
       "6             loan   object\n",
       "7          contact   object\n",
       "8            month   object\n",
       "9      day_of_week   object\n",
       "10        duration    int64\n",
       "11        campaign    int64\n",
       "12           pdays    int64\n",
       "13        previous    int64\n",
       "14        poutcome   object\n",
       "15    emp.var.rate  float64\n",
       "16  cons.price.idx  float64\n",
       "17   cons.conf.idx  float64\n",
       "18       euribor3m  float64\n",
       "19     nr.employed  float64\n",
       "20      subscribed   object"
      ]
     },
     "execution_count": 7,
     "metadata": {},
     "output_type": "execute_result"
    }
   ],
   "source": [
    "getDatatypeSummaryForDataframe(bank_marketing_df)"
   ]
  },
  {
   "cell_type": "markdown",
   "metadata": {},
   "source": [
    "<a id='data_cleaning'></a>\n",
    "#### Data Cleaning"
   ]
  },
  {
   "cell_type": "markdown",
   "metadata": {},
   "source": [
    "In every data science project (and in general when working with data) before we perform any type of data analysis or create prediction models it's very important that we make sure that the dataset is as clean as possible. When calling a dataset clean, we generally mean that we have handled any cases where we had missing values (the might come in the form of NULL if the value is missing or with other types like 'unknown'), get rid of duplicate rows as they do not add any value and they just increase the dimension of the data, check for mispelled words (if working with text we usually), and many more.\n",
    "\n",
    "In general, the data cleaning steps are very important for every project, as we want to make sure that the dataset has the best possible shape before we build any model around it. That said, there is no specific steps that we need to take for data cleaning and it's something that the data analyst/scientist should adjust depending on the dataset that they are working with, and the specific problem that they are trying to tackle."
   ]
  },
  {
   "cell_type": "code",
   "execution_count": 8,
   "metadata": {},
   "outputs": [],
   "source": [
    "def checkNumberOfDuplicateRows(input_df: pd.DataFrame, msg=False) -> int:\n",
    "    num_dups = bank_marketing_df.duplicated().sum()\n",
    "    if msg:\n",
    "        print('There are {0} rows in the dataset that are duplicated'.format(num_dups))\n",
    "    return num_dups"
   ]
  },
  {
   "cell_type": "code",
   "execution_count": 9,
   "metadata": {},
   "outputs": [
    {
     "name": "stdout",
     "output_type": "stream",
     "text": [
      "There are 12 rows in the dataset that are duplicated\n"
     ]
    },
    {
     "data": {
      "text/plain": [
       "12"
      ]
     },
     "execution_count": 9,
     "metadata": {},
     "output_type": "execute_result"
    }
   ],
   "source": [
    "# Check for duplicates\n",
    "checkNumberOfDuplicateRows(bank_marketing_df, msg=True)"
   ]
  },
  {
   "cell_type": "code",
   "execution_count": 10,
   "metadata": {},
   "outputs": [
    {
     "data": {
      "text/plain": [
       "0"
      ]
     },
     "execution_count": 10,
     "metadata": {},
     "output_type": "execute_result"
    }
   ],
   "source": [
    "bank_marketing_df = bank_marketing_df.drop_duplicates()\n",
    "\n",
    "checkNumberOfDuplicateRows(bank_marketing_df, msg=False)"
   ]
  },
  {
   "cell_type": "markdown",
   "metadata": {},
   "source": [
    "Above we can see that we have removed 12 rows from the initial dataset as they were duplicates of other rows and they did not give us any additinal information that we didn't have already."
   ]
  },
  {
   "cell_type": "code",
   "execution_count": 11,
   "metadata": {},
   "outputs": [],
   "source": [
    "def checkMissingValues(input_df: pd.DataFrame) -> pd.DataFrame:\n",
    "    ''' Given a DataFrame, create a column-wise summary of the number of\n",
    "    missing values.\n",
    "    '''\n",
    "    missing_v_df = pd.DataFrame(input_df.isnull().sum(axis=0), columns=['Num_Missing_Values']).reset_index()\n",
    "    missing_v_df.columns = ['Column_Name', 'Num_Missing_Values']\n",
    "    missing_v_df = missing_v_df[missing_v_df['Num_Missing_Values'] != 0]\n",
    "    if len(missing_v_df) > 0:\n",
    "        return missing_v_df\n",
    "    else:\n",
    "        return 'No missing values in the data'"
   ]
  },
  {
   "cell_type": "code",
   "execution_count": 12,
   "metadata": {},
   "outputs": [
    {
     "data": {
      "text/plain": [
       "'No missing values in the data'"
      ]
     },
     "execution_count": 12,
     "metadata": {},
     "output_type": "execute_result"
    }
   ],
   "source": [
    "checkMissingValues(bank_marketing_df)"
   ]
  },
  {
   "cell_type": "markdown",
   "metadata": {},
   "source": [
    "The check for missing values indicates that all of the rows/columns are fully populated (i.e. no NULL values). That said, this does not mean that we don't have any missing values in another format. For example - as we are going to see below - there are many cases where for specific columns there are instances taking the value 'unknown', indicating that we do not know the value. Such cases are technically missing values in the form of a string."
   ]
  },
  {
   "cell_type": "code",
   "execution_count": 13,
   "metadata": {},
   "outputs": [
    {
     "data": {
      "text/plain": [
       "job           330\n",
       "marital        80\n",
       "education    1730\n",
       "default      8596\n",
       "housing       990\n",
       "loan          990\n",
       "dtype: int64"
      ]
     },
     "execution_count": 13,
     "metadata": {},
     "output_type": "execute_result"
    }
   ],
   "source": [
    "# There are many missing values in other forms like 'unknown'\n",
    "unknown_cols = bank_marketing_df.isin(['unknown']).sum(axis=0)\n",
    "unknown_cols[unknown_cols > 0]"
   ]
  },
  {
   "cell_type": "markdown",
   "metadata": {},
   "source": [
    "For the time being, we will leave these columns as they are and we won't proceed with imputation methods in order to infer what the values would be. This is something that we might want to do in future iterations of the project, by using cross-tabulation methods to 'guess' what the unknown value would be based on the columns that are populated."
   ]
  },
  {
   "cell_type": "markdown",
   "metadata": {},
   "source": [
    "<a id='eda'></a>\n",
    "#### Exploratory Data Analysis"
   ]
  },
  {
   "cell_type": "markdown",
   "metadata": {},
   "source": [
    "At first we can have a look at the distribution of the target variable (_'subscribed'_) across the whole dataset, to identify any interesting patterns."
   ]
  },
  {
   "cell_type": "code",
   "execution_count": 14,
   "metadata": {},
   "outputs": [],
   "source": [
    "def visualizeCategoricalFeature(input_df: pd.DataFrame,\n",
    "                                col_name: str,\n",
    "                                hue=None,\n",
    "                                return_counts=False,\n",
    "                                figsize=(10, 8),\n",
    "                                rotation=80):\n",
    "    ''' Plot the number of observations per category for a specified feature defined by 'col'.\n",
    "\n",
    "    Parameters\n",
    "    ----------\n",
    "        input_df: Dataframe that contains the dataset\n",
    "        col: Column of the dataframe that will be used by the countplot\n",
    "    Returns\n",
    "    -------\n",
    "        Countplot of the specified variable.\n",
    "    '''\n",
    "    size = float(input_df.shape[0])\n",
    "\n",
    "    if return_counts:\n",
    "        print(input_df[col_name].value_counts())\n",
    "    \n",
    "    plt.figure(figsize=figsize)\n",
    "    if hue:\n",
    "        ax = sns.countplot(x=col_name, hue=hue, data=input_df, palette=[\"#d63638\", \"#3582c4\"])\n",
    "    else:\n",
    "        ax = sns.countplot(x=col_name, data=input_df, palette=[\"#d63638\", \"#3582c4\"])\n",
    "    ax.set_xticklabels(ax.get_xticklabels(), rotation=rotation)\n",
    "    for p in ax.patches:\n",
    "        height = p.get_height()\n",
    "        ax.text(p.get_x()+p.get_width()/2., height+5, '{:1.2f}%'.format(105 * height/size), ha='center', fontweight='bold')\n",
    "    ax.xaxis.set_tick_params(labelsize=12)\n",
    "    ax.yaxis.set_tick_params(labelsize=12)   \n",
    "    plt.grid(True, alpha=0.2, color='black')\n",
    "    plt.title(f'Number of observations per \\'{col_name}\\'', fontweight='bold')\n",
    "    plt.show()"
   ]
  },
  {
   "cell_type": "code",
   "execution_count": 15,
   "metadata": {},
   "outputs": [
    {
     "name": "stdout",
     "output_type": "stream",
     "text": [
      "no     36537\n",
      "yes     4639\n",
      "Name: subscribed, dtype: int64\n"
     ]
    },
    {
     "data": {
      "image/png": "[encoded data removed]",
      "text/plain": [
       "<Figure size 1008x504 with 1 Axes>"
      ]
     },
     "metadata": {},
     "output_type": "display_data"
    }
   ],
   "source": [
    "visualizeCategoricalFeature(input_df=bank_marketing_df, col_name='subscribed',\n",
    "                            hue=None, return_counts=True, figsize=(14, 7), rotation=0)"
   ]
  },
  {
   "cell_type": "markdown",
   "metadata": {},
   "source": [
    "We can observe that the dataset is **highly imbalanced** towards the clients who did not subscribe for the product, as for approximately 89% of the clients the product campaign was not successful. Class imbalance is an important attribute of our dataset and we have to be careful both in the way that we are going to develop our prediction models, as well as the evaluation metrics that we will pick to measure how accurate the classifiers are. For example in our case (and in any case where we have class imbalance) we could not pick accuracy as a performance metric because the results would be misleading - but more on the evaluation metrics later in the project.\n",
    "\n",
    "Now back to the EDA analysis, we will initially focus on the **categorical** variables (i.e. variables that can take limited/fixed number of possible values and they usually represent groups/labels). Please note that we will present only the categorical variables that appeared to give us significant or interesting results - the rest have been omitted from this notebook."
   ]
  },
  {
   "cell_type": "markdown",
   "metadata": {},
   "source": [
    "##### _job_"
   ]
  },
  {
   "cell_type": "code",
   "execution_count": 16,
   "metadata": {},
   "outputs": [
    {
     "name": "stdout",
     "output_type": "stream",
     "text": [
      "admin.           10419\n",
      "blue-collar       9253\n",
      "technician        6739\n",
      "services          3967\n",
      "management        2924\n",
      "retired           1718\n",
      "entrepreneur      1456\n",
      "self-employed     1421\n",
      "housemaid         1060\n",
      "unemployed        1014\n",
      "student            875\n",
      "unknown            330\n",
      "Name: job, dtype: int64\n"
     ]
    },
    {
     "data": {
      "image/png": "[encoded data removed]",
      "text/plain": [
       "<Figure size 1296x504 with 1 Axes>"
      ]
     },
     "metadata": {},
     "output_type": "display_data"
    }
   ],
   "source": [
    "visualizeCategoricalFeature(input_df=bank_marketing_df, col_name='job', hue='subscribed',\n",
    "                            return_counts=True, figsize=(18, 7), rotation=0)"
   ]
  },
  {
   "cell_type": "markdown",
   "metadata": {},
   "source": [
    "_Job_ appears to be a good predictor for the machine learning algorithms to identify who subscribed for the product. For example, we can observe that the admin, technician and blue-collar jobs appear to be the ones that tend to subscribe more compared to the rest of the professions. Another interesting finding is that almost 1 out of 3 clients who are being contacted are students, and a good percentage of them actually ends up subscribing to the bank's product."
   ]
  },
  {
   "cell_type": "markdown",
   "metadata": {},
   "source": [
    "##### _education_"
   ]
  },
  {
   "cell_type": "code",
   "execution_count": 17,
   "metadata": {},
   "outputs": [
    {
     "name": "stdout",
     "output_type": "stream",
     "text": [
      "university.degree      12164\n",
      "high.school             9512\n",
      "basic.9y                6045\n",
      "professional.course     5240\n",
      "basic.4y                4176\n",
      "basic.6y                2291\n",
      "unknown                 1730\n",
      "illiterate                18\n",
      "Name: education, dtype: int64\n"
     ]
    },
    {
     "data": {
      "image/png": "[encoded data removed]",
      "text/plain": [
       "<Figure size 1008x504 with 1 Axes>"
      ]
     },
     "metadata": {},
     "output_type": "display_data"
    }
   ],
   "source": [
    "visualizeCategoricalFeature(input_df=bank_marketing_df, col_name='education', hue='subscribed',\n",
    "                            return_counts=True, figsize=(14, 7), rotation=0)"
   ]
  },
  {
   "cell_type": "markdown",
   "metadata": {},
   "source": [
    "\n",
    "People with higher education (university degree) or high school diploma appear to be more prompt to subscriptions. This can be likely because a university degree and higher education might lead to jobs with higher salaries and thus people are more prompt to invest money to non-essential products and services, like the one the bank was offering."
   ]
  },
  {
   "cell_type": "markdown",
   "metadata": {},
   "source": [
    "##### _poutcome_"
   ]
  },
  {
   "cell_type": "code",
   "execution_count": 18,
   "metadata": {},
   "outputs": [
    {
     "name": "stdout",
     "output_type": "stream",
     "text": [
      "nonexistent    35551\n",
      "failure         4252\n",
      "success         1373\n",
      "Name: poutcome, dtype: int64\n"
     ]
    },
    {
     "data": {
      "image/png": "[encoded data removed]",
      "text/plain": [
       "<Figure size 864x360 with 1 Axes>"
      ]
     },
     "metadata": {},
     "output_type": "display_data"
    }
   ],
   "source": [
    "visualizeCategoricalFeature(input_df=bank_marketing_df, col_name='poutcome', hue='subscribed',\n",
    "                            return_counts=True, figsize=(12, 5), rotation=0)"
   ]
  },
  {
   "cell_type": "markdown",
   "metadata": {},
   "source": [
    "For most of the customers in the dataset, it's the first time that they are being contacted. Interesting is that customers who subscribed during the previous campaign, they tend to re-subscribe. Thefefore this variable might be a strong predictor for the target variable.\n",
    "\n",
    "<br>\n",
    "Below we will focus at performing exploratory data analysis for the **numerical** variables (i.e. variables that are representing quantities/numbers).\n",
    "\n",
    "We can start by looking at a quick summary of the main statistics for each variable:"
   ]
  },
  {
   "cell_type": "code",
   "execution_count": 19,
   "metadata": {},
   "outputs": [
    {
     "data": {
      "text/html": [
       "<div>\n",
       "<style scoped>\n",
       "    .dataframe tbody tr th:only-of-type {\n",
       "        vertical-align: middle;\n",
       "    }\n",
       "\n",
       "    .dataframe tbody tr th {\n",
       "        vertical-align: top;\n",
       "    }\n",
       "\n",
       "    .dataframe thead th {\n",
       "        text-align: right;\n",
       "    }\n",
       "</style>\n",
       "<table border=\"1\" class=\"dataframe\">\n",
       "  <thead>\n",
       "    <tr style=\"text-align: right;\">\n",
       "      <th></th>\n",
       "      <th>age</th>\n",
       "      <th>duration</th>\n",
       "      <th>campaign</th>\n",
       "      <th>pdays</th>\n",
       "      <th>previous</th>\n",
       "      <th>emp.var.rate</th>\n",
       "      <th>cons.price.idx</th>\n",
       "      <th>cons.conf.idx</th>\n",
       "      <th>euribor3m</th>\n",
       "      <th>nr.employed</th>\n",
       "    </tr>\n",
       "  </thead>\n",
       "  <tbody>\n",
       "    <tr>\n",
       "      <th>count</th>\n",
       "      <td>41176.00000</td>\n",
       "      <td>41176.000000</td>\n",
       "      <td>41176.000000</td>\n",
       "      <td>41176.000000</td>\n",
       "      <td>41176.000000</td>\n",
       "      <td>41176.000000</td>\n",
       "      <td>41176.000000</td>\n",
       "      <td>41176.000000</td>\n",
       "      <td>41176.000000</td>\n",
       "      <td>41176.000000</td>\n",
       "    </tr>\n",
       "    <tr>\n",
       "      <th>mean</th>\n",
       "      <td>40.02380</td>\n",
       "      <td>258.315815</td>\n",
       "      <td>2.567879</td>\n",
       "      <td>962.464810</td>\n",
       "      <td>0.173013</td>\n",
       "      <td>0.081922</td>\n",
       "      <td>93.575720</td>\n",
       "      <td>-40.502863</td>\n",
       "      <td>3.621293</td>\n",
       "      <td>5167.034870</td>\n",
       "    </tr>\n",
       "    <tr>\n",
       "      <th>std</th>\n",
       "      <td>10.42068</td>\n",
       "      <td>259.305321</td>\n",
       "      <td>2.770318</td>\n",
       "      <td>186.937102</td>\n",
       "      <td>0.494964</td>\n",
       "      <td>1.570883</td>\n",
       "      <td>0.578839</td>\n",
       "      <td>4.627860</td>\n",
       "      <td>1.734437</td>\n",
       "      <td>72.251364</td>\n",
       "    </tr>\n",
       "    <tr>\n",
       "      <th>min</th>\n",
       "      <td>17.00000</td>\n",
       "      <td>0.000000</td>\n",
       "      <td>1.000000</td>\n",
       "      <td>0.000000</td>\n",
       "      <td>0.000000</td>\n",
       "      <td>-3.400000</td>\n",
       "      <td>92.201000</td>\n",
       "      <td>-50.800000</td>\n",
       "      <td>0.634000</td>\n",
       "      <td>4963.600000</td>\n",
       "    </tr>\n",
       "    <tr>\n",
       "      <th>25%</th>\n",
       "      <td>32.00000</td>\n",
       "      <td>102.000000</td>\n",
       "      <td>1.000000</td>\n",
       "      <td>999.000000</td>\n",
       "      <td>0.000000</td>\n",
       "      <td>-1.800000</td>\n",
       "      <td>93.075000</td>\n",
       "      <td>-42.700000</td>\n",
       "      <td>1.344000</td>\n",
       "      <td>5099.100000</td>\n",
       "    </tr>\n",
       "    <tr>\n",
       "      <th>50%</th>\n",
       "      <td>38.00000</td>\n",
       "      <td>180.000000</td>\n",
       "      <td>2.000000</td>\n",
       "      <td>999.000000</td>\n",
       "      <td>0.000000</td>\n",
       "      <td>1.100000</td>\n",
       "      <td>93.749000</td>\n",
       "      <td>-41.800000</td>\n",
       "      <td>4.857000</td>\n",
       "      <td>5191.000000</td>\n",
       "    </tr>\n",
       "    <tr>\n",
       "      <th>75%</th>\n",
       "      <td>47.00000</td>\n",
       "      <td>319.000000</td>\n",
       "      <td>3.000000</td>\n",
       "      <td>999.000000</td>\n",
       "      <td>0.000000</td>\n",
       "      <td>1.400000</td>\n",
       "      <td>93.994000</td>\n",
       "      <td>-36.400000</td>\n",
       "      <td>4.961000</td>\n",
       "      <td>5228.100000</td>\n",
       "    </tr>\n",
       "    <tr>\n",
       "      <th>max</th>\n",
       "      <td>98.00000</td>\n",
       "      <td>4918.000000</td>\n",
       "      <td>56.000000</td>\n",
       "      <td>999.000000</td>\n",
       "      <td>7.000000</td>\n",
       "      <td>1.400000</td>\n",
       "      <td>94.767000</td>\n",
       "      <td>-26.900000</td>\n",
       "      <td>5.045000</td>\n",
       "      <td>5228.100000</td>\n",
       "    </tr>\n",
       "  </tbody>\n",
       "</table>\n",
       "</div>"
      ],
      "text/plain": [
       "               age      duration      campaign         pdays      previous  \\\n",
       "count  41176.00000  41176.000000  41176.000000  41176.000000  41176.000000   \n",
       "mean      40.02380    258.315815      2.567879    962.464810      0.173013   \n",
       "std       10.42068    259.305321      2.770318    186.937102      0.494964   \n",
       "min       17.00000      0.000000      1.000000      0.000000      0.000000   \n",
       "25%       32.00000    102.000000      1.000000    999.000000      0.000000   \n",
       "50%       38.00000    180.000000      2.000000    999.000000      0.000000   \n",
       "75%       47.00000    319.000000      3.000000    999.000000      0.000000   \n",
       "max       98.00000   4918.000000     56.000000    999.000000      7.000000   \n",
       "\n",
       "       emp.var.rate  cons.price.idx  cons.conf.idx     euribor3m   nr.employed  \n",
       "count  41176.000000    41176.000000   41176.000000  41176.000000  41176.000000  \n",
       "mean       0.081922       93.575720     -40.502863      3.621293   5167.034870  \n",
       "std        1.570883        0.578839       4.627860      1.734437     72.251364  \n",
       "min       -3.400000       92.201000     -50.800000      0.634000   4963.600000  \n",
       "25%       -1.800000       93.075000     -42.700000      1.344000   5099.100000  \n",
       "50%        1.100000       93.749000     -41.800000      4.857000   5191.000000  \n",
       "75%        1.400000       93.994000     -36.400000      4.961000   5228.100000  \n",
       "max        1.400000       94.767000     -26.900000      5.045000   5228.100000  "
      ]
     },
     "execution_count": 19,
     "metadata": {},
     "output_type": "execute_result"
    }
   ],
   "source": [
    "summary_num_vars = bank_marketing_df.describe()\n",
    "summary_num_vars"
   ]
  },
  {
   "cell_type": "markdown",
   "metadata": {},
   "source": [
    "Some observations from the summary table for the numerical variables:\n",
    "\n",
    "- **$age$**: The target group of the campaings appears to be the people with age range between 30-50 years old - most likely indicating that the bank was targeting people that have finished their studies and are now actively working\n",
    "- **$pdays$**: The majority of the data has the value ‘999’, indicating that most of the clients were not previously contacted from another campaign\n",
    "- **$duration$**: The majority of the calls last between 1 and 5 minutes. Interesting is that the calls that belong to the last quartile lasted significantly longer than the average\n",
    "\n"
   ]
  },
  {
   "cell_type": "code",
   "execution_count": 20,
   "metadata": {},
   "outputs": [],
   "source": [
    "def visualizeNumericalVar(input_df: pd.DataFrame,\n",
    "                          col_name: str,\n",
    "                          hue: str,\n",
    "                          figsize=(10, 8)) -> None:\n",
    "    ''' Generate a Boxplot and a Histogram for a numerical variable.\n",
    "\n",
    "    Input:\n",
    "    ----\n",
    "        input_df: Dataframe that contains the dataset\n",
    "        col: Column of the dataframe that will be used by the boxplot/histogram\n",
    "        hue: Column for which to split the dataset in terms of color\n",
    "    Returns:\n",
    "    ------\n",
    "        Boxplot and overlapping histograms of the specified variable, splitted by the different classes in 'hue'\n",
    "    '''\n",
    "    box_palette_cols = {\"no\": \"firebrick\", \"yes\": \"darkcyan\"}\n",
    "\n",
    "    fig, ax = plt.subplots(1, 2, figsize=(10, 8))\n",
    "    # Boxplot\n",
    "    sns.boxplot(data=input_df, x=hue, y=col_name, palette=box_palette_cols,\n",
    "                ax=ax[0]).set(title=f'Boxplot of \\'{col_name}\\'')\n",
    "    # First Histogram\n",
    "    sns.distplot(input_df[input_df[hue] == 'no'][col_name], color='darkcyan',\n",
    "                 fit=norm, fit_kws={'color': 'darkcyan'},  kde=False,\n",
    "                 ax=ax[1]).set(title=f'Histogram of \\'{col_name}\\'')\n",
    "    # Second Histogram\n",
    "    sns.distplot(input_df[input_df[hue] == 'yes'][col_name], color='firebrick',\n",
    "                 fit=norm, fit_kws={'color': 'firebrick'}, kde=False,\n",
    "                 ax=ax[1]).set(title=f'Histogram of \\'{col_name}\\'')\n",
    "\n",
    "    ax[0].grid(True, alpha=0.1, color='black')\n",
    "    ax[1].grid(True, alpha=0.1, color='black')\n",
    "    fig.show()"
   ]
  },
  {
   "cell_type": "markdown",
   "metadata": {},
   "source": [
    "###### _age_"
   ]
  },
  {
   "cell_type": "code",
   "execution_count": 21,
   "metadata": {},
   "outputs": [
    {
     "name": "stderr",
     "output_type": "stream",
     "text": [
      "C:\\ProgramData\\Anaconda3\\lib\\site-packages\\matplotlib\\axes\\_axes.py:6462: UserWarning: The 'normed' kwarg is deprecated, and has been replaced by the 'density' kwarg.\n",
      "  warnings.warn(\"The 'normed' kwarg is deprecated, and has been \"\n",
      "C:\\ProgramData\\Anaconda3\\lib\\site-packages\\matplotlib\\axes\\_axes.py:6462: UserWarning: The 'normed' kwarg is deprecated, and has been replaced by the 'density' kwarg.\n",
      "  warnings.warn(\"The 'normed' kwarg is deprecated, and has been \"\n",
      "C:\\ProgramData\\Anaconda3\\lib\\site-packages\\matplotlib\\figure.py:459: UserWarning: matplotlib is currently using a non-GUI backend, so cannot show the figure\n",
      "  \"matplotlib is currently using a non-GUI backend, \"\n"
     ]
    },
    {
     "data": {
      "image/png": "[encoded data removed]",
      "text/plain": [
       "<Figure size 720x576 with 2 Axes>"
      ]
     },
     "metadata": {},
     "output_type": "display_data"
    }
   ],
   "source": [
    "visualizeNumericalVar(input_df=bank_marketing_df, col_name='age', hue='subscribed', figsize=(14, 10))"
   ]
  },
  {
   "cell_type": "markdown",
   "metadata": {},
   "source": [
    "From the plot above we can observe that:\n",
    "\n",
    "- Median age is around 37-40 years old, and that is the case for both for clients who subscribed ('yes) and clients who didn't (no)\n",
    "- We can quickly observe the presence of a few outliers - but in reality are just people who belong to a higher age group, and therefore are still relevant in our analysis\n",
    "- There is a big overlap between subscribed/not subscribed clients when comparing the data for the interquartile range (i.e. data that fall between quartile Q1 and Q3)\n",
    "- The first quartile(Q1) appears to be almost the same for both classes.On the other hand, the last quartile(Q4) is slightly broader in favor of customers who subscribed\n"
   ]
  },
  {
   "cell_type": "markdown",
   "metadata": {},
   "source": [
    "#### Correlation"
   ]
  },
  {
   "cell_type": "markdown",
   "metadata": {},
   "source": [
    "Now, it would be interesting to explore the case that some of the numerical variables in the dataset might be highly correlated - something that would imply that we have variables that do not provide much additional information as the required information is already been captured from another variable(s). As a reminder, _correlation_ is a statistical measure that indicates the extend to which two or more variables fluctuate together, and it a _normalized_ version of the covariance -  a statistic that indicates the tendency (sign) of a linear relationship between to variables but lacks in showing the magnitute of this relationship. \n",
    "\n",
    "Thus, we will calculate the correlation of the variables and present the results with a pairplot (pairwise relationship between variables) as well as a heatmap of the **Pearson Correlation Coefficients** (PCC). PCC is a statistic that measures the  linear correlation between two variables and it takes values from -1 (strong negative correlation) to +1 (strong positive correlation). If the PCC has value of 0, then this indicates that there is no correlation between the variables.The connection between covariance and the Pearson correlation coefficient is being describred in the following formula:\n",
    "\n",
    "$${\\displaystyle \\rho _{X,Y}={\\frac {\\operatorname {cov} (X,Y)}{\\sigma _{X}\\sigma _{Y}}}}$$\n",
    "\n",
    "where ${cov} (X,Y)$ is the covariance between two variable $X$ and $Y$, and $\\sigma _{X}$, $\\sigma _{Y}$ are their standard deviations."
   ]
  },
  {
   "cell_type": "code",
   "execution_count": 30,
   "metadata": {},
   "outputs": [],
   "source": [
    "NumericTypes = [np.int64, np.float64, int, float, complex]\n",
    "\n",
    "numeric_cols = list(bank_marketing_df.select_dtypes(include=NumericTypes).columns)"
   ]
  },
  {
   "cell_type": "code",
   "execution_count": null,
   "metadata": {},
   "outputs": [],
   "source": [
    "def hide_upper_triangle(*args, **kwds):\n",
    "    plt.gca().set_visible(False)\n",
    "\n",
    "# Pairplot\n",
    "plt.figure(figsize=(18, 14))\n",
    "pair_plt = sns.pairplot(data=bank_marketing_df, vars=numeric_cols,\n",
    "                        hue='subscribed', diag_kind='hist',\n",
    "                        palette={\"no\": \"darkcyan\", \"yes\": \"firebrick\"})\n",
    "pair_plt.map_upper(hide_upper_triangle)\n",
    "pair_plt.add_legend()\n",
    "pair_plt.set(alpha=0.5)\n",
    "pair_plt.fig.suptitle('Pair plot for Numerical Variables', fontweight=\"bold\")\n",
    "plt.show()"
   ]
  },
  {
   "cell_type": "code",
   "execution_count": 42,
   "metadata": {},
   "outputs": [],
   "source": [
    "def computeCorrelation(input_df: pd.DataFrame,\n",
    "                       num_vars: List[str],\n",
    "                       plt_heatmap=False,\n",
    "                       return_corr=True,\n",
    "                       figsize=(12, 10)):\n",
    "\n",
    "    # Calculate the Pearson Correlation Coefficients\n",
    "    corr_coeffs = input_df[num_vars].corr().abs()\n",
    "    \n",
    "    # Heatmap\n",
    "    mask = np.triu(np.ones_like(corr_coeffs, dtype=np.bool))\n",
    "    f, ax = plt.subplots(figsize=(figsize))\n",
    "    if plt_heatmap:\n",
    "        sns.heatmap(corr_coeffs, mask=mask, cmap='Reds', vmax=1.0, center=0, annot=True,\n",
    "                    square=True, linewidths=.5, cbar_kws={\"shrink\": .5})\n",
    "        plt.title('Pearson Correlation Coefficients for Numeric Variables', fontweight='bold')\n",
    "    if return_corr:\n",
    "        return corr_coeffs"
   ]
  },
  {
   "cell_type": "code",
   "execution_count": 43,
   "metadata": {},
   "outputs": [
    {
     "data": {
      "image/png": "[encoded data removed]",
      "text/plain": [
       "<Figure size 864x720 with 2 Axes>"
      ]
     },
     "metadata": {},
     "output_type": "display_data"
    }
   ],
   "source": [
    "computeCorrelation(input_df=bank_marketing_df, num_vars=numeric_cols, plt_heatmap=True, return_corr=False)"
   ]
  },
  {
   "cell_type": "markdown",
   "metadata": {},
   "source": [
    "The values in the Heatmap above represent the value of the Pearson Correlation Coefficients between each pair of variables. From the above we can infer that the pairs of variables in the socioeconomic group of features (i.e., emp.var.rate, cons.price.idx, euribor3m, nr.employed ) appear to be highly correlated with each other. On the other hand, the rest of the pairs do not indicate the presence of high correlation."
   ]
  },
  {
   "cell_type": "markdown",
   "metadata": {},
   "source": [
    "<a id='data_preprocessing'></a>\n",
    "## Part 2 - Data Preprocessing"
   ]
  },
  {
   "cell_type": "markdown",
   "metadata": {},
   "source": [
    "Now that we have finished the EDA part of the project - and before we move to the fun part (i.e. modelling) - we will have to make any necessary adjustments to our dataset so that it can have the right format that would fit nicely into our machine learning algorithms. Specifically, we are going to:\n",
    "\n",
    "1. Transform the 'pday' column into separate buckets\n",
    "2. re-map the values of the target variable from 'yes' and 'no' to 1 and 0 respectively\n",
    "3. Use one-hot encoding at the categorical variables (i.e. transform them to numerical variables or more accurately to binary variables)\n",
    "4. Normalize the numerical variables using the Min-Max feature scaling method\n",
    "5. Split the dataset into training and test samples"
   ]
  },
  {
   "cell_type": "markdown",
   "metadata": {},
   "source": [
    "Therefore we can start with with point 1. As a reminder, earlier in the project we saw that the values of 'pday' feature tend to have the value '999'. Specifically out of the 41176 distinct cases, 39661 of them had this value which indicates that the client has not been contacted previously from another campaign. To tackle this issue, we will create new 'buckets' (i.e. groups) based on this variable, representing the amount of days that have passed since the client has been contacted from another campaign. The split is following the logic below:\n",
    "\n",
    "- '0': Never contacted before from another campaign\n",
    "- '1': Contacted during the previous week (0 to7 days)\n",
    "- '2': Contacted the week before 1 (8 to 14 days)\n",
    "- '3': Contacted the week before 2 (15 to 21 days)\n",
    "- '4': Contacted more than 21 days ago\n"
   ]
  },
  {
   "cell_type": "code",
   "execution_count": 19,
   "metadata": {},
   "outputs": [],
   "source": [
    "def bucketPday(pday_val):\n",
    "    \"\"\"\n",
    "    Split the pday feature into 5 different buckets, depending on how many days\n",
    "    (if any) have passed since they last contacted from a previous campaign.\n",
    "    The bucket measures the number of weeks passed since the last contact.\n",
    "    \"\"\"\n",
    "    if pday_val == 999:\n",
    "        return 0\n",
    "    elif (pday_val >= 0) and (pday_val <= 7):\n",
    "        return 1\n",
    "    elif (pday_val >= 8) and (pday_val <= 14):\n",
    "        return 2\n",
    "    elif (pday_val >= 15) and (pday_val <= 21):\n",
    "        return 3\n",
    "    else:\n",
    "        return 4"
   ]
  },
  {
   "cell_type": "code",
   "execution_count": 20,
   "metadata": {},
   "outputs": [],
   "source": [
    "bank_marketing_df['pdays_bucket'] = bank_marketing_df['pdays'].apply(lambda x: bucketPday(x))"
   ]
  },
  {
   "cell_type": "code",
   "execution_count": 21,
   "metadata": {},
   "outputs": [
    {
     "data": {
      "text/plain": [
       "0    39661\n",
       "1     1177\n",
       "2      276\n",
       "3       56\n",
       "4        6\n",
       "Name: pdays_bucket, dtype: int64"
      ]
     },
     "execution_count": 21,
     "metadata": {},
     "output_type": "execute_result"
    }
   ],
   "source": [
    "bank_marketing_df['pdays_bucket'].value_counts()"
   ]
  },
  {
   "cell_type": "code",
   "execution_count": 22,
   "metadata": {},
   "outputs": [],
   "source": [
    "# Drop the column 'pdays' as we do not need it anymore\n",
    "bank_marketing_df.drop(columns=['pdays'], inplace=True)"
   ]
  },
  {
   "cell_type": "markdown",
   "metadata": {},
   "source": [
    "In the next step we map the values from the target variable from 'yes' and 'no' to 1 and 0, as follows:"
   ]
  },
  {
   "cell_type": "code",
   "execution_count": 23,
   "metadata": {},
   "outputs": [],
   "source": [
    "# Transform the 'yes' and 'no' values (target variable) to 1 and 0 respectively\n",
    "bank_marketing_df['subscribed'] = bank_marketing_df['subscribed'].map({'yes': 1, 'no': 0})"
   ]
  },
  {
   "cell_type": "markdown",
   "metadata": {},
   "source": [
    "Next step of the pre-processing part is to **encode** the categorical features of the dataset. This is necessary as most of the algorithms do not work well with categorical (i.e. text) data, and we need a way to make the computer to understand the categories as represented by numbers - while also making sure that we are preserving the characteristics of these cetegorical features.\n",
    "\n",
    "In this project we will use the **one-hot encoding** method, as we can not map our values directly to integers because that would imply we are assuming that there is a natural ordering in the values/labels - something that's not the case. One-hot encodning is creating a binary representation for the labels by transforming the labels into separate columns and assign to them the value 1 when the label represents the true category and 0 elsewhere."
   ]
  },
  {
   "cell_type": "code",
   "execution_count": 24,
   "metadata": {},
   "outputs": [
    {
     "data": {
      "text/plain": [
       "Index(['job', 'marital', 'education', 'default', 'housing', 'loan', 'contact',\n",
       "       'month', 'day_of_week', 'poutcome'],\n",
       "      dtype='object')"
      ]
     },
     "execution_count": 24,
     "metadata": {},
     "output_type": "execute_result"
    }
   ],
   "source": [
    "categorical_cols = bank_marketing_df.select_dtypes(include=['object']).columns\n",
    "categorical_cols"
   ]
  },
  {
   "cell_type": "code",
   "execution_count": 25,
   "metadata": {},
   "outputs": [],
   "source": [
    "encoded_df = pd.concat([bank_marketing_df, pd.get_dummies(bank_marketing_df[categorical_cols])], axis=1)"
   ]
  },
  {
   "cell_type": "code",
   "execution_count": 26,
   "metadata": {},
   "outputs": [
    {
     "data": {
      "text/html": [
       "<div>\n",
       "<style scoped>\n",
       "    .dataframe tbody tr th:only-of-type {\n",
       "        vertical-align: middle;\n",
       "    }\n",
       "\n",
       "    .dataframe tbody tr th {\n",
       "        vertical-align: top;\n",
       "    }\n",
       "\n",
       "    .dataframe thead th {\n",
       "        text-align: right;\n",
       "    }\n",
       "</style>\n",
       "<table border=\"1\" class=\"dataframe\">\n",
       "  <thead>\n",
       "    <tr style=\"text-align: right;\">\n",
       "      <th></th>\n",
       "      <th>age</th>\n",
       "      <th>duration</th>\n",
       "      <th>campaign</th>\n",
       "      <th>previous</th>\n",
       "      <th>emp.var.rate</th>\n",
       "      <th>cons.price.idx</th>\n",
       "      <th>cons.conf.idx</th>\n",
       "      <th>euribor3m</th>\n",
       "      <th>nr.employed</th>\n",
       "      <th>subscribed</th>\n",
       "      <th>...</th>\n",
       "      <th>month_oct</th>\n",
       "      <th>month_sep</th>\n",
       "      <th>day_of_week_fri</th>\n",
       "      <th>day_of_week_mon</th>\n",
       "      <th>day_of_week_thu</th>\n",
       "      <th>day_of_week_tue</th>\n",
       "      <th>day_of_week_wed</th>\n",
       "      <th>poutcome_failure</th>\n",
       "      <th>poutcome_nonexistent</th>\n",
       "      <th>poutcome_success</th>\n",
       "    </tr>\n",
       "  </thead>\n",
       "  <tbody>\n",
       "    <tr>\n",
       "      <th>0</th>\n",
       "      <td>56</td>\n",
       "      <td>261</td>\n",
       "      <td>1</td>\n",
       "      <td>0</td>\n",
       "      <td>1.1</td>\n",
       "      <td>93.994</td>\n",
       "      <td>-36.4</td>\n",
       "      <td>4.857</td>\n",
       "      <td>5191.0</td>\n",
       "      <td>0</td>\n",
       "      <td>...</td>\n",
       "      <td>0</td>\n",
       "      <td>0</td>\n",
       "      <td>0</td>\n",
       "      <td>1</td>\n",
       "      <td>0</td>\n",
       "      <td>0</td>\n",
       "      <td>0</td>\n",
       "      <td>0</td>\n",
       "      <td>1</td>\n",
       "      <td>0</td>\n",
       "    </tr>\n",
       "    <tr>\n",
       "      <th>1</th>\n",
       "      <td>57</td>\n",
       "      <td>149</td>\n",
       "      <td>1</td>\n",
       "      <td>0</td>\n",
       "      <td>1.1</td>\n",
       "      <td>93.994</td>\n",
       "      <td>-36.4</td>\n",
       "      <td>4.857</td>\n",
       "      <td>5191.0</td>\n",
       "      <td>0</td>\n",
       "      <td>...</td>\n",
       "      <td>0</td>\n",
       "      <td>0</td>\n",
       "      <td>0</td>\n",
       "      <td>1</td>\n",
       "      <td>0</td>\n",
       "      <td>0</td>\n",
       "      <td>0</td>\n",
       "      <td>0</td>\n",
       "      <td>1</td>\n",
       "      <td>0</td>\n",
       "    </tr>\n",
       "    <tr>\n",
       "      <th>2</th>\n",
       "      <td>37</td>\n",
       "      <td>226</td>\n",
       "      <td>1</td>\n",
       "      <td>0</td>\n",
       "      <td>1.1</td>\n",
       "      <td>93.994</td>\n",
       "      <td>-36.4</td>\n",
       "      <td>4.857</td>\n",
       "      <td>5191.0</td>\n",
       "      <td>0</td>\n",
       "      <td>...</td>\n",
       "      <td>0</td>\n",
       "      <td>0</td>\n",
       "      <td>0</td>\n",
       "      <td>1</td>\n",
       "      <td>0</td>\n",
       "      <td>0</td>\n",
       "      <td>0</td>\n",
       "      <td>0</td>\n",
       "      <td>1</td>\n",
       "      <td>0</td>\n",
       "    </tr>\n",
       "    <tr>\n",
       "      <th>3</th>\n",
       "      <td>40</td>\n",
       "      <td>151</td>\n",
       "      <td>1</td>\n",
       "      <td>0</td>\n",
       "      <td>1.1</td>\n",
       "      <td>93.994</td>\n",
       "      <td>-36.4</td>\n",
       "      <td>4.857</td>\n",
       "      <td>5191.0</td>\n",
       "      <td>0</td>\n",
       "      <td>...</td>\n",
       "      <td>0</td>\n",
       "      <td>0</td>\n",
       "      <td>0</td>\n",
       "      <td>1</td>\n",
       "      <td>0</td>\n",
       "      <td>0</td>\n",
       "      <td>0</td>\n",
       "      <td>0</td>\n",
       "      <td>1</td>\n",
       "      <td>0</td>\n",
       "    </tr>\n",
       "    <tr>\n",
       "      <th>4</th>\n",
       "      <td>56</td>\n",
       "      <td>307</td>\n",
       "      <td>1</td>\n",
       "      <td>0</td>\n",
       "      <td>1.1</td>\n",
       "      <td>93.994</td>\n",
       "      <td>-36.4</td>\n",
       "      <td>4.857</td>\n",
       "      <td>5191.0</td>\n",
       "      <td>0</td>\n",
       "      <td>...</td>\n",
       "      <td>0</td>\n",
       "      <td>0</td>\n",
       "      <td>0</td>\n",
       "      <td>1</td>\n",
       "      <td>0</td>\n",
       "      <td>0</td>\n",
       "      <td>0</td>\n",
       "      <td>0</td>\n",
       "      <td>1</td>\n",
       "      <td>0</td>\n",
       "    </tr>\n",
       "  </tbody>\n",
       "</table>\n",
       "<p>5 rows × 64 columns</p>\n",
       "</div>"
      ],
      "text/plain": [
       "   age  duration  campaign  previous  emp.var.rate  cons.price.idx  \\\n",
       "0   56       261         1         0           1.1          93.994   \n",
       "1   57       149         1         0           1.1          93.994   \n",
       "2   37       226         1         0           1.1          93.994   \n",
       "3   40       151         1         0           1.1          93.994   \n",
       "4   56       307         1         0           1.1          93.994   \n",
       "\n",
       "   cons.conf.idx  euribor3m  nr.employed  subscribed        ...         \\\n",
       "0          -36.4      4.857       5191.0           0        ...          \n",
       "1          -36.4      4.857       5191.0           0        ...          \n",
       "2          -36.4      4.857       5191.0           0        ...          \n",
       "3          -36.4      4.857       5191.0           0        ...          \n",
       "4          -36.4      4.857       5191.0           0        ...          \n",
       "\n",
       "   month_oct  month_sep  day_of_week_fri  day_of_week_mon  day_of_week_thu  \\\n",
       "0          0          0                0                1                0   \n",
       "1          0          0                0                1                0   \n",
       "2          0          0                0                1                0   \n",
       "3          0          0                0                1                0   \n",
       "4          0          0                0                1                0   \n",
       "\n",
       "   day_of_week_tue  day_of_week_wed  poutcome_failure  poutcome_nonexistent  \\\n",
       "0                0                0                 0                     1   \n",
       "1                0                0                 0                     1   \n",
       "2                0                0                 0                     1   \n",
       "3                0                0                 0                     1   \n",
       "4                0                0                 0                     1   \n",
       "\n",
       "   poutcome_success  \n",
       "0                 0  \n",
       "1                 0  \n",
       "2                 0  \n",
       "3                 0  \n",
       "4                 0  \n",
       "\n",
       "[5 rows x 64 columns]"
      ]
     },
     "execution_count": 26,
     "metadata": {},
     "output_type": "execute_result"
    }
   ],
   "source": [
    "encoded_df = encoded_df.drop(categorical_cols, axis=1)\n",
    "encoded_df.head(5)"
   ]
  },
  {
   "cell_type": "markdown",
   "metadata": {},
   "source": [
    "Following the encoding of the categorical features, we will continue with the **normalization (scalling)** of the numerical features. Note that this is a step that is not necessary for all algorithms. If our machine learning model is rule based (for example the tree based algorithms) then there is no requirement for data scalling/normalization. On the other hand, when we are using distance based algorithms, then it's important to normalize the data - as if we don't then the algorithms will tend  to favor the features that have high scales compared to smaller ones. \n",
    "\n",
    "For this project we will use the **MinMax scalling** method to normalize our numerical features and bring them in the range [0,1], by using the following formula:\n",
    "\n",
    "$$x'={\\frac  {x-{\\text{min}}(x)}{{\\text{max}}(x)-{\\text{min}}(x)}}$$"
   ]
  },
  {
   "cell_type": "code",
   "execution_count": 27,
   "metadata": {},
   "outputs": [
    {
     "name": "stderr",
     "output_type": "stream",
     "text": [
      "C:\\Users\\george\\AppData\\Roaming\\Python\\Python36\\site-packages\\sklearn\\preprocessing\\data.py:323: DataConversionWarning: Data with input dtype uint8, int64, float64 were all converted to float64 by MinMaxScaler.\n",
      "  return self.partial_fit(X, y)\n"
     ]
    }
   ],
   "source": [
    "# Scale\n",
    "scaler = MinMaxScaler(feature_range=(0, 1))\n",
    "encoded_scaled_df = pd.DataFrame(scaler.fit_transform(encoded_df), columns=encoded_df.columns)"
   ]
  },
  {
   "cell_type": "markdown",
   "metadata": {},
   "source": [
    "Final step of the preprocessing part, is to **split the dataset into training and test sets**."
   ]
  },
  {
   "cell_type": "code",
   "execution_count": 28,
   "metadata": {},
   "outputs": [],
   "source": [
    "# Split the data to train and test sets\n",
    "X = encoded_scaled_df.loc[:, encoded_scaled_df.columns != 'subscribed']\n",
    "y = encoded_scaled_df['subscribed']"
   ]
  },
  {
   "cell_type": "code",
   "execution_count": 29,
   "metadata": {},
   "outputs": [],
   "source": [
    "X_train, X_test, y_train, y_test = train_test_split(X, y, test_size=0.2, random_state=42)"
   ]
  },
  {
   "cell_type": "code",
   "execution_count": 30,
   "metadata": {},
   "outputs": [
    {
     "data": {
      "text/plain": [
       "0.0    29272\n",
       "1.0     3668\n",
       "Name: subscribed, dtype: int64"
      ]
     },
     "execution_count": 30,
     "metadata": {},
     "output_type": "execute_result"
    }
   ],
   "source": [
    "y_train.value_counts()"
   ]
  },
  {
   "cell_type": "code",
   "execution_count": 31,
   "metadata": {},
   "outputs": [
    {
     "data": {
      "text/plain": [
       "0.0    7265\n",
       "1.0     971\n",
       "Name: subscribed, dtype: int64"
      ]
     },
     "execution_count": 31,
     "metadata": {},
     "output_type": "execute_result"
    }
   ],
   "source": [
    "y_test.value_counts()"
   ]
  },
  {
   "cell_type": "markdown",
   "metadata": {},
   "source": [
    "We can see that in both of the training and test sets, the number of clients who subscribed are approximatelly 12% of the overall amount of contacted clients."
   ]
  },
  {
   "cell_type": "markdown",
   "metadata": {},
   "source": [
    "<a id='model_evaluation_metrics'></a>\n",
    "## Part 3 - Model Evaluation Metrics"
   ]
  },
  {
   "cell_type": "markdown",
   "metadata": {},
   "source": [
    "<a id='recall_precision'></a>\n",
    "#### Recall & Precision"
   ]
  },
  {
   "cell_type": "markdown",
   "metadata": {},
   "source": [
    "Before moving into creating the classification models, we have to decide **how** we are going to evaluate our model's perfomance. Remember that as we saw above, the dataset is suffering from high imbalance between the labels - as most of the dataset is in favor of clients who did not subscribe for the bank's product. \n",
    "\n",
    "Therefore, a metric like classification accuracy would be a poor choice as it would achieve a high accuracy score due to correctly predicting the majority class, but perform poorly on predicting the minority class. Thus, for our project we are going to use two other **threshold** metrics (i.e. metrics that quantify the classification prediction errors), which are focusing on predicting the 'smaller' positive class:  \n",
    "1. **Recall** : The ratio of correct positive predictions to the overall number of positive **examples**\n",
    "2. **Precision**: It's the ratio of correct positive predictions to the overall number of positive **predictions**\n",
    "\n",
    "To get a better understanding of these two metrics, we should first talk about the confusion matrix. The confusion matrix is nothing more than a matrix which represents how many classes we classified correctly or not, which are the classes that we classified correctly/misclassified and what type of errors we made. For a binary classification case, like the one we are facing in our project, the confusion matrix would have the following format:\n",
    "\n",
    "| | **Predicted** |\n",
    "---|--- | --- | ---\n",
    "| |**Not Subscribed** | **Subscribed**\n",
    "**Expected**|**Not Subscribed** | True Negative | False Positive\n",
    "|**Subscribed** | False Negative | True Positive\n",
    "\n",
    "Based on the table above, we can compute the Recall and Precision as follows:\n",
    "\n",
    "$$ Recall = \\frac{TP}{TP + FN}$$\n",
    "\n",
    "and \n",
    "\n",
    "$$ Precision = \\frac{TP}{TP + FP}$$\n",
    "\n",
    "We should have in mind that, in practice, we usually have to find a balance between Precision and Recall as when focusing to increase one of them then we are decreasing the other. We can compute the confusion matrix, the values for Recall/Precision and plot a heatmap of the results by using the custom function below:"
   ]
  },
  {
   "cell_type": "code",
   "execution_count": 32,
   "metadata": {},
   "outputs": [],
   "source": [
    "def getModelEvaluationMetrics(classifier, model_name: str, x_test: pd.core.frame.DataFrame,\n",
    "                              y_test: pd.core.frame.DataFrame, y_predicted, plot_confusion_matrix=False,\n",
    "                              figsize=(10, 8)) -> np.ndarray:\n",
    "    \"\"\"\n",
    "    Calculate the Precision and Recall of a classifier. Return the results\n",
    "    as a matrix with the scores, as well as a Confusion Matrix plot.\n",
    "    \"\"\"\n",
    "    conf_mat = confusion_matrix(y_true=y_test, y_pred=y_predicted)\n",
    "    print('Confusion matrix:\\n\\n {0}'.format(conf_mat))\n",
    "\n",
    "    if plot_confusion_matrix:\n",
    "        labels = ['no', 'yes']\n",
    "        fig = plt.figure(figsize=figsize)\n",
    "        ax = fig.add_subplot(111)\n",
    "        cax = ax.matshow(conf_mat, cmap=plt.cm.Reds)\n",
    "        fig.colorbar(cax)\n",
    "        ax.set_xticklabels([''] + labels)\n",
    "        ax.set_yticklabels([''] + labels)\n",
    "        plt.xlabel('Predicted')\n",
    "        plt.ylabel('Expected')\n",
    "        plt.title(f'Confusion Matrix for {model_name}', fontweight='bold')\n",
    "        plt.show()\n",
    "\n",
    "    # Calculating the precision (tp/tp+fp)\n",
    "    precision = str(np.round((conf_mat[1][1] / (conf_mat[1][1] +\n",
    "                              conf_mat[0][1])) * 100, 2))\n",
    "    print('The precision is: {0} %'.format(precision))\n",
    "\n",
    "    # Calculating the recall (tp/tp+fn)\n",
    "    recall = str(np.round((conf_mat[1][1] / (conf_mat[1][1] +\n",
    "                           conf_mat[1][0])) * 100, 2))\n",
    "    print('The recall is: {0} %'.format(recall))\n",
    "\n",
    "    return conf_mat"
   ]
  },
  {
   "cell_type": "markdown",
   "metadata": {},
   "source": [
    "<a id='roc'></a>\n",
    "#### Receiver Operating Characteristics (ROC) Curve"
   ]
  },
  {
   "cell_type": "markdown",
   "metadata": {},
   "source": [
    "Except the two *threshold* evaluation metrics presented above, we are going to use an additional *rank* metric (i.e. metrics that are focused at evaluating classifiers based on how effective they are at separating classes) called **Receiver Operating Characteristics (ROC)** Curve. The ROC curve is being used as it's a more 'general' evaluation method, giving equal weight to both classes. \n",
    "\n",
    "A ROC curve is a  plot which summarizes the behavior of a model by calculating the **False Positive Rate(FPR)** and **True Positive Rate(TPR)** under different thresholds, where:\n",
    "\n",
    "$$False\\,Positive\\,Rate = \\frac{FP}{FP + TN}$$\n",
    "\n",
    "and \n",
    "\n",
    "$$True\\,Positive\\,Rate = \\frac{TP}{TP + FN}$$\n",
    "\n",
    "When plotting the ROC Curve we want our classifier to fall into the top left corner of the graph, with TPR close to 1 and FPR close to 0. Based on the ROC Curve we then calculate the **ROC Area Under the Curve (ROC AUC)** to quantify the performace of our classification model (more here: https://en.wikipedia.org/wiki/Receiver_operating_characteristic#Area_under_the_curve).\n",
    "\n",
    "We can perform a full ROC analysis (ROC Curve + calculating of the ROC AUC score) by using the following function:"
   ]
  },
  {
   "cell_type": "code",
   "execution_count": 33,
   "metadata": {},
   "outputs": [],
   "source": [
    "def createROCAnalysis(classifier, model_name: str, y_test: pd.core.series.Series, pred_probs: np.ndarray,\n",
    "                      plot_ROC_Curve=False, figsize=(10, 8)) -> int:\n",
    "    \"\"\"\n",
    "    Perform a ROC-AUC analysis for a specified classifier.\n",
    "\n",
    "    Args:\n",
    "    -----\n",
    "        classifier: Model based on which we perform the ROC analysis.\n",
    "        model_name: Name of the model (e.g. 'Logistic Regression')\n",
    "        pred_probs: Predicted probabilites for each instance/class\n",
    "        plot_ROC_Curve: Plot the ROC Curve against a random model\n",
    "\n",
    "    Returns:\n",
    "        The Area Under Curve (AUC) score for the specific classifier\n",
    "    \"\"\"\n",
    "    if plot_ROC_Curve:\n",
    "        plt.figure(figsize=figsize)\n",
    "        plt.plot([0, 1], [0, 1], linestyle='--', label='No Skill Classifier')\n",
    "        fp_rate, tp_rate, _ = roc_curve(y_test, pred_probs[:, 1])\n",
    "        plt.plot(fp_rate, tp_rate, marker='.', label=model_name)\n",
    "        plt.xlabel('False Positive Rate')\n",
    "        plt.ylabel('True Positive Rate')\n",
    "        plt.title(f'ROC Curve for {model_name}', fontweight='bold')\n",
    "        plt.grid(True, alpha=0.1, color='black')\n",
    "        plt.legend(loc='lower right')\n",
    "        plt.show()\n",
    "\n",
    "    # Calculate Area Under Curve (AUC) for the Receiver Operating\n",
    "    # Characteristics Curve (ROC)\n",
    "    auc_score = np.round(roc_auc_score(y_test, pred_probs[:, 1]), 4)\n",
    "    print(f'{model_name} - ROC AUC score: {auc_score}')\n",
    "\n",
    "    return auc_score"
   ]
  },
  {
   "cell_type": "markdown",
   "metadata": {},
   "source": [
    "<a id='classification_models'></a>\n",
    "## Part 4 - Classification Models"
   ]
  },
  {
   "cell_type": "markdown",
   "metadata": {},
   "source": [
    "And now the fun part. At this stage of the project, we have familiarized ourselves with the dataset and the features, applied any necessary data cleaning and transformation, we splitted the dataset into training and test sets and introduced the model evaluation methods that we will use to assess the performance of our classifiers. In the first version of this project we will work with two machine learning algorithms for classification: **1) Random Forests** and **2) Logistic Regression**.\n",
    "\n",
    "Initially we will use the whole dataset (20 features) to predict whether a client will end up subscribing to the bank's product or not, via the usage of a Random Forest algorithm. After evaluating the performance of this model, we will pick only a subset of the features(the ones that appear to be the best predictors of the target variable), create a new Logistic Regression model and evaluate it's performance. Finally, we will compare these two algorithms to identify interesting results and/or patterns."
   ]
  },
  {
   "cell_type": "markdown",
   "metadata": {},
   "source": [
    "<a id='random_forest'></a>\n",
    "## Random Forest"
   ]
  },
  {
   "cell_type": "markdown",
   "metadata": {},
   "source": [
    "Random Forest is a very well-known and powerful ensemble learning method used both for classification and regression, and it's based on Decision Trees. In practice, the random forest algorithm is creating multiple decision trees - using a different combination/subset of the features each time - and makes a prediction (vote) based on this subset. The individual decision trees are considered weak learners and they suffer from high variance, but all together create a strong and robust prediction model with high generalization performance.\n",
    "\n",
    "In more details, the **Random Forest** algorithm works as follows:\n",
    "\n",
    "1. We randomly choone $n$ samples with replacement from the training set (boostrap sample)\n",
    "<br/><br/>\n",
    "2. Create a decision tree based on this bootstrap sample, and at each node:\n",
    "\n",
    "    a. Randomly select $m$ amount of features without replacement \n",
    "\n",
    "    b. Split the node based on the feature that gives us the best split based on some criterion - usually we are trying to maximize the Information Gain\n",
    "<br/><br/>\n",
    "3. We repeat steps 1 and 2 $k$ times, where $k$ is the number of trees that we chose to create before we make a decision. At the end of each of the $k$ iterations, the decision tree will make a \"vote\" (predicted label for classification or value for regression).\n",
    "<br/><br/>\n",
    "4. Finally, we aggregate the votes received from all of the decision trees and we pick the classification having the most votes among all the trees. Note that if we are facing a regression problem, then the random forest will pick the average of the outputs of the trees."
   ]
  },
  {
   "cell_type": "markdown",
   "metadata": {},
   "source": [
    "Pros:\n",
    "1. It's a robust algorithm regarding overfitting, as well as outliers\n",
    "2. Works well with either numerical or categorical features\n",
    "3. Provides reliable feature importance estimates\n",
    "\n",
    "Cons:\n",
    "1. It's a computationally expensive algorithm\n",
    "2. In general is harder to understand and visualize compared to Decision Tree algorithm"
   ]
  },
  {
   "cell_type": "markdown",
   "metadata": {},
   "source": [
    "Now we can start creating the Random Forest classifier. At the beggining we will create a parameter grid which will contain different values for the hyperparameters used in the Random Forest algorithm, and find the combination that is producing the optimal results. \n",
    "\n",
    "This is a necessary step, as compared to the parameters of the model that are being learned by the model itself (in the case of the Random Forest that would be the variables and the thresholds used to split a node), the hyperparameters have to be chosen by the data scientist who is creating the model. Generally, there are no rules about what values these hyperpatameters should take and it's usually a task that requires experimentation and time. We will tune the algorithm for the following:\n",
    "\n",
    "- __bootstrap__: Indicate if we want to sample with replacement or not - In our algorithm we will sample with replacement\n",
    "- __max_features__: Maximum number of features considered for splitting a node\n",
    "- __min_samples_leaf__: Minimum number of data points allowed in a leaf node.A split point at any depth will only be considered if it leaves at least min_samples_leaf training samples in each of the left and right branches.\n",
    "- __min_samples_split__: Minimum number of data points placed in a node before the node is split\n",
    "- __n_estimators__: Number of trees created before we take the average(regression) or the mode(classification)"
   ]
  },
  {
   "cell_type": "code",
   "execution_count": 93,
   "metadata": {},
   "outputs": [],
   "source": [
    "# Instantiate the Random Forest model\n",
    "rf_class = RandomForestClassifier()"
   ]
  },
  {
   "cell_type": "code",
   "execution_count": 76,
   "metadata": {},
   "outputs": [],
   "source": [
    "# Set the parameter grid for the Random Forest Classifier\n",
    "param_grid = {\n",
    "    'bootstrap': [True], \n",
    "    'max_features': ['sqrt', 6, 10],\n",
    "    'min_samples_leaf': [20, 30, 40],\n",
    "    'min_samples_split': [15, 20, 25],\n",
    "    'n_estimators':  [400, 500, 600]\n",
    "}"
   ]
  },
  {
   "cell_type": "code",
   "execution_count": 77,
   "metadata": {},
   "outputs": [],
   "source": [
    "# Tune the model by finding the best hyperparameters\n",
    "rf_grid_search = GridSearchCV(estimator=rf_class, scoring=['roc_auc'],\n",
    "                              refit='roc_auc', param_grid=param_grid, cv=10,\n",
    "                              n_jobs=-1, verbose=10)"
   ]
  },
  {
   "cell_type": "code",
   "execution_count": null,
   "metadata": {},
   "outputs": [],
   "source": [
    "# Fit the Random Forest model based on the best parameters\n",
    "rf_grid_search.fit(X_train, y_train)"
   ]
  },
  {
   "cell_type": "markdown",
   "metadata": {},
   "source": [
    "We can see that after tuning the model to identify the optimal hyperparameters we end up with the following model:"
   ]
  },
  {
   "cell_type": "code",
   "execution_count": 79,
   "metadata": {},
   "outputs": [
    {
     "data": {
      "text/plain": [
       "RandomForestClassifier(bootstrap=True, class_weight=None, criterion='gini',\n",
       "            max_depth=None, max_features=10, max_leaf_nodes=None,\n",
       "            min_impurity_decrease=0.0, min_impurity_split=None,\n",
       "            min_samples_leaf=20, min_samples_split=20,\n",
       "            min_weight_fraction_leaf=0.0, n_estimators=600, n_jobs=None,\n",
       "            oob_score=False, random_state=None, verbose=0,\n",
       "            warm_start=False)"
      ]
     },
     "execution_count": 79,
     "metadata": {},
     "output_type": "execute_result"
    }
   ],
   "source": [
    "rf_grid_search.best_estimator_"
   ]
  },
  {
   "cell_type": "markdown",
   "metadata": {},
   "source": [
    "The model is now in position to make predictions on data that it has not seen before (test data in our case). The *predict_proba* method will return a list of lists of the form $[p_0, p_1]$ where \n",
    "- $p_0$ : Probability of the call to belong to class 'no'  (i.e. client did not subscribed) \n",
    "- $p_1$ : Probability of the call to belong to class 'yes' (i.e. client subscribed) \n",
    "\n",
    "For each separate instance, we will assign the value $0$ (not subscribed) if $p_0$ > $p_1$ or we will assign the value $1$ (subscribed) if $p_1$ > $p_0$."
   ]
  },
  {
   "cell_type": "code",
   "execution_count": 80,
   "metadata": {},
   "outputs": [],
   "source": [
    "rf_pred_probs = rf_grid_search.predict_proba(X_test)"
   ]
  },
  {
   "cell_type": "code",
   "execution_count": 81,
   "metadata": {},
   "outputs": [
    {
     "data": {
      "text/plain": [
       "array([[0.48856735, 0.51143265],\n",
       "       [0.97539148, 0.02460852]])"
      ]
     },
     "execution_count": 81,
     "metadata": {},
     "output_type": "execute_result"
    }
   ],
   "source": [
    "rf_pred_probs[0:2]"
   ]
  },
  {
   "cell_type": "markdown",
   "metadata": {},
   "source": [
    "The above case is an example of the first 2 predictions, where the first case is going to take the value '1' indicating that the client will subscribe, while the second case will take the value 0.\n",
    "\n",
    "Thankfully we do not have to do this mapping by ourselves. The *predict* method provides this functionality:"
   ]
  },
  {
   "cell_type": "code",
   "execution_count": 82,
   "metadata": {},
   "outputs": [],
   "source": [
    "# Assign the above probabilities to the corresponding class ('no', 'yes')\n",
    "rf_y_pred = rf_grid_search.predict(X_test)"
   ]
  },
  {
   "cell_type": "code",
   "execution_count": 83,
   "metadata": {},
   "outputs": [
    {
     "data": {
      "text/plain": [
       "array([1., 0.])"
      ]
     },
     "execution_count": 83,
     "metadata": {},
     "output_type": "execute_result"
    }
   ],
   "source": [
    "rf_y_pred[0:2]"
   ]
  },
  {
   "cell_type": "markdown",
   "metadata": {},
   "source": [
    "Thus we can see how the values in the example were correctly mapped to '1' and '0' depending on the corresponding $[p_0, p_1]$ values.\n",
    "\n",
    "Now we are in a position to use the evaluation metrics that we discussed in a previous section, to get a better view of the performance of our algorithm:"
   ]
  },
  {
   "cell_type": "code",
   "execution_count": 84,
   "metadata": {},
   "outputs": [
    {
     "name": "stdout",
     "output_type": "stream",
     "text": [
      "Confusion matrix:\n",
      "\n",
      " [[7126  139]\n",
      " [ 609  362]]\n"
     ]
    },
    {
     "data": {
      "image/png": "[encoded data removed]",
      "text/plain": [
       "<Figure size 576x432 with 2 Axes>"
      ]
     },
     "metadata": {},
     "output_type": "display_data"
    },
    {
     "name": "stdout",
     "output_type": "stream",
     "text": [
      "The precision is: 72.26 %\n",
      "The recall is: 37.28 %\n"
     ]
    },
    {
     "data": {
      "text/plain": [
       "array([[7126,  139],\n",
       "       [ 609,  362]], dtype=int64)"
      ]
     },
     "execution_count": 84,
     "metadata": {},
     "output_type": "execute_result"
    }
   ],
   "source": [
    "# Evaluate the model by using Recall/Precission:\n",
    "getModelEvaluationMetrics(classifier=rf_grid_search, model_name='Random Forest',x_test=X_test, y_test=y_test,\n",
    "                              y_predicted=rf_y_pred, plot_confusion_matrix=True, figsize=(8,6))"
   ]
  },
  {
   "cell_type": "code",
   "execution_count": 85,
   "metadata": {},
   "outputs": [
    {
     "data": {
      "image/png": "[encoded data removed]",
      "text/plain": [
       "<Figure size 576x432 with 1 Axes>"
      ]
     },
     "metadata": {},
     "output_type": "display_data"
    },
    {
     "name": "stdout",
     "output_type": "stream",
     "text": [
      "Random Forest - ROC AUC score: 0.9439\n"
     ]
    },
    {
     "data": {
      "text/plain": [
       "0.9439"
      ]
     },
     "execution_count": 85,
     "metadata": {},
     "output_type": "execute_result"
    }
   ],
   "source": [
    "# Evaluate the model by using ROC Curve:\n",
    "createROCAnalysis(classifier=rf_grid_search, model_name='Random Forest', y_test=y_test, pred_probs=rf_pred_probs,\n",
    "                  plot_ROC_Curve=True, figsize=(8,6))"
   ]
  },
  {
   "cell_type": "markdown",
   "metadata": {},
   "source": [
    " Therefore from the results above we can infer that the Random Forest classifier:\n",
    " \n",
    " - Was very good at predicting clients who are not going to subscribe (negative class)\n",
    " - Did not perform very well in the case of the positive class, as it classified correctly approximately 37% of the total clients who end up subscribing for the product\n",
    " - Still achieved a very good ROC -AUC score\n"
   ]
  },
  {
   "cell_type": "markdown",
   "metadata": {},
   "source": [
    "<a id='feature_importance'></a>\n",
    "##### Feature Importance"
   ]
  },
  {
   "cell_type": "markdown",
   "metadata": {},
   "source": [
    "One good aspect of the Random Forest classifier, is that it's giving us the ability to observe which features were the most important when predicting the target variable. As presented in the sklearn documentation: *\"The importance of a feature is computed as the (normalized) total reduction of the criterion brought by that feature. It is also known as the **Gini importance**.\"*"
   ]
  },
  {
   "cell_type": "code",
   "execution_count": 86,
   "metadata": {},
   "outputs": [],
   "source": [
    "# Find the feature importance based on Gini criterion\n",
    "feature_importance = {}\n",
    "best_estimator_fi = rf_grid_search.best_estimator_.feature_importances_\n",
    "\n",
    "for feature, importance in zip(X_train.columns, best_estimator_fi):\n",
    "    feature_importance[feature] = importance\n",
    "\n",
    "importances = pd.DataFrame.from_dict(feature_importance, orient='index').rename(columns={0: 'Gini Score'})\n",
    "\n",
    "importances = importances.sort_values(by='Gini Score', ascending=False)"
   ]
  },
  {
   "cell_type": "code",
   "execution_count": 87,
   "metadata": {},
   "outputs": [
    {
     "data": {
      "image/png": "[encoded data removed]",
      "text/plain": [
       "<Figure size 1008x432 with 1 Axes>"
      ]
     },
     "metadata": {},
     "output_type": "display_data"
    }
   ],
   "source": [
    "# Plot for feature importance\n",
    "plt.figure(figsize=(14, 6))\n",
    "sns.barplot(x=importances.index[0:10],\n",
    "            y=importances['Gini Score'].iloc[0:10], palette='muted')\n",
    "plt.title(f'Importance for the Top 10 Features (Gini criterion) ',\n",
    "          fontweight='bold')\n",
    "plt.grid(True, alpha=0.1, color='black')\n",
    "plt.show()"
   ]
  },
  {
   "cell_type": "markdown",
   "metadata": {},
   "source": [
    "Based on the plot above we can infer that:\n",
    "\n",
    "- $duration$: Appears to be a very good predictor, but as a feature is has the problem that we only know it's value *after* the call is finished - therefore it's not a variable that we would like to use further in a prediction model\n",
    "\n",
    "- $emp.var.rate$, $cons.price.idx$, $euribor3m$, $nr.employed$: The features from  the socioeconomic group of variables appears to  be good predictors for the target variable. That said, we saw in a previous section that these variables are highly correlated with each other - something that we want to avoid (especially for a Logistic Regression model, which is our next classifier). Therefore, we will continue our analysis only with ($euribor3m$),\n",
    "\n",
    "Therefore, based on our findings from the EDA and features importance analysis presented above, we can see that some of the variables that appear to be strongest predictors for the target variable are the following: $age$, $pdays\\_bucket$, $campaign$, $poutcome$, $previous$\n",
    "\n",
    "In the final model, we are going to also include the following variables in our model: $job$, $marital$, $education$, $default$, $housing$, $loan$"
   ]
  },
  {
   "cell_type": "code",
   "execution_count": 63,
   "metadata": {},
   "outputs": [],
   "source": [
    "# Pick only the 5 variables for the second model\n",
    "pout_ls = [col for col in X_train.columns if col.startswith('poutcome')]\n",
    "rel_features_ls = ['nr.employed', 'age', 'pdays_bucket', 'campaign', 'previous'] + pout_ls"
   ]
  },
  {
   "cell_type": "code",
   "execution_count": 64,
   "metadata": {},
   "outputs": [],
   "source": [
    "cols_to_exclude = ['duration', 'emp.var.rate', 'cons.price.idx', 'cons.conf.idx', 'nr.employed', 'month_apr', 'month_aug',\n",
    "                   'month_dec', 'month_jul', 'month_jun', 'month_mar', 'month_may', 'month_nov', 'month_oct', 'month_sep',\n",
    "                   'day_of_week_fri', 'day_of_week_mon', 'day_of_week_thu', 'day_of_week_tue', 'day_of_week_wed', 'contact_cellular'\n",
    "                   'contact_telephone']\n",
    "\n",
    "cols_include = [x for x in X_train.columns if x not in cols_to_exclude]"
   ]
  },
  {
   "cell_type": "code",
   "execution_count": 65,
   "metadata": {},
   "outputs": [
    {
     "data": {
      "text/plain": [
       "['age',\n",
       " 'campaign',\n",
       " 'previous',\n",
       " 'euribor3m',\n",
       " 'pdays_bucket',\n",
       " 'job_admin.',\n",
       " 'job_blue-collar',\n",
       " 'job_entrepreneur',\n",
       " 'job_housemaid',\n",
       " 'job_management',\n",
       " 'job_retired',\n",
       " 'job_self-employed',\n",
       " 'job_services',\n",
       " 'job_student',\n",
       " 'job_technician',\n",
       " 'job_unemployed',\n",
       " 'job_unknown',\n",
       " 'marital_divorced',\n",
       " 'marital_married',\n",
       " 'marital_single',\n",
       " 'marital_unknown',\n",
       " 'education_basic.4y',\n",
       " 'education_basic.6y',\n",
       " 'education_basic.9y',\n",
       " 'education_high.school',\n",
       " 'education_illiterate',\n",
       " 'education_professional.course',\n",
       " 'education_university.degree',\n",
       " 'education_unknown',\n",
       " 'default_no',\n",
       " 'default_unknown',\n",
       " 'default_yes',\n",
       " 'housing_no',\n",
       " 'housing_unknown',\n",
       " 'housing_yes',\n",
       " 'loan_no',\n",
       " 'loan_unknown',\n",
       " 'loan_yes',\n",
       " 'contact_cellular',\n",
       " 'contact_telephone',\n",
       " 'poutcome_failure',\n",
       " 'poutcome_nonexistent',\n",
       " 'poutcome_success']"
      ]
     },
     "execution_count": 65,
     "metadata": {},
     "output_type": "execute_result"
    }
   ],
   "source": [
    "cols_include"
   ]
  },
  {
   "cell_type": "code",
   "execution_count": 66,
   "metadata": {},
   "outputs": [],
   "source": [
    "X_train_reduced = X_train[cols_include]\n",
    "X_test_reduced = X_test[cols_include]"
   ]
  },
  {
   "cell_type": "markdown",
   "metadata": {},
   "source": [
    "<a id='logistic_regression'></a>\n",
    "## Logistic Regression"
   ]
  },
  {
   "cell_type": "markdown",
   "metadata": {},
   "source": [
    "Logistic regression is one of the most used machine learning classification algorithms, especially when we are facing a problem where the output variable (target) is binary (e.g. yes/no, spam/not spame, etc). The algorithm contains the word logistic, because it makes use of the logistic function - also known as sigmoid function:\n",
    "$$S(x)={\\frac {1}{1+e^{-x}}}$$\n",
    "\n",
    "The name also contains the word regression, something that shouldn't confuse us as Logistic Regression is being used only for classification problems. This happens likely due to the fact that the algorithm is an 'extension' of linear regression but for classification tasks (remember that regression problems try to predict continuous values and not classes). Similar to linear regression, the input values are combined linearly and then they become the input ($x$) to the sigmoid function presented above.This time the output is being \"squeezed\" to take a value between 0 and 1. In some sense, it's safe to say that this output it's a mapping between predicted values to probabilities."
   ]
  },
  {
   "cell_type": "markdown",
   "metadata": {},
   "source": [
    "Now remember that the term $x$ above will have a format similar to the linear regression, so we can re-write the signmoid function as below:\n",
    "    $$S(x)={\\frac {1}{1+e^{-(wx+b)}}}$$\n",
    "    \n",
    "The logistic regression algorithm is trying to optimize the values of $w$ and $b$, something that usually happens via maximizing the likelihood of the training data, but more details regarding this is out of the scope of this project."
   ]
  },
  {
   "cell_type": "markdown",
   "metadata": {},
   "source": [
    "Pros:\n",
    "1. Works well when the number of variables is small (low dimensionality)\n",
    "2. Does not require time intensive tuning of the hyperpatameters\n",
    "3. It's an algorithm which is easy to understand and implement\n",
    "\n",
    "Cons:\n",
    "1. Assumes linear relationship between the independent and the dependent variables.\n",
    "2. Most of the assumptions from Linear Regression also apply in this case"
   ]
  },
  {
   "cell_type": "code",
   "execution_count": 67,
   "metadata": {},
   "outputs": [],
   "source": [
    "# Instantiate the Logistic Regression Model\n",
    "log_reg = LogisticRegression()"
   ]
  },
  {
   "cell_type": "markdown",
   "metadata": {},
   "source": [
    "We can set the parameter grid for tuning, similar to what we did for the random forest. The Logistic Regression algorithm is being tuned for the following parameters:\n",
    "- __C__: It's the inverse of the regularization strength\n",
    "- __class_weight__: Handles the imbalance issue of the dataset, as it assigns different weight for the classes"
   ]
  },
  {
   "cell_type": "code",
   "execution_count": 69,
   "metadata": {},
   "outputs": [],
   "source": [
    "bal_w = ['balanced', {0: 1, 1: 9.0}, {0: 1, 1: 10.0}, {0: 1, 1: 11.0}]\n",
    "\n",
    "param_grid = {\n",
    "    'solver': ['lbfgs', 'saga'],\n",
    "    'C': np.arange(0.1, 10.1, 0.2),\n",
    "    'penalty': ['l2'],\n",
    "    'class_weight': bal_w\n",
    "}"
   ]
  },
  {
   "cell_type": "code",
   "execution_count": 70,
   "metadata": {},
   "outputs": [],
   "source": [
    "# Tune the model by finding the best hyperparameters\n",
    "logreg_grid_search = GridSearchCV(estimator=log_reg, scoring=['roc_auc'],\n",
    "                                  refit='roc_auc', param_grid=param_grid,\n",
    "                                  cv=10, n_jobs=-1, verbose=10)"
   ]
  },
  {
   "cell_type": "code",
   "execution_count": null,
   "metadata": {},
   "outputs": [],
   "source": [
    "# Fit the model and find the optimal parameters\n",
    "logreg_grid_search.fit(X_train_reduced, y_train)"
   ]
  },
  {
   "cell_type": "markdown",
   "metadata": {},
   "source": [
    "We can observe which were the best hyperparameters used for the Logistic Regression model:"
   ]
  },
  {
   "cell_type": "code",
   "execution_count": 72,
   "metadata": {},
   "outputs": [
    {
     "data": {
      "text/plain": [
       "LogisticRegression(C=0.30000000000000004, class_weight={0: 1, 1: 11.0},\n",
       "          dual=False, fit_intercept=True, intercept_scaling=1,\n",
       "          max_iter=100, multi_class='warn', n_jobs=None, penalty='l2',\n",
       "          random_state=None, solver='lbfgs', tol=0.0001, verbose=0,\n",
       "          warm_start=False)"
      ]
     },
     "execution_count": 72,
     "metadata": {},
     "output_type": "execute_result"
    }
   ],
   "source": [
    "logreg_grid_search.best_estimator_"
   ]
  },
  {
   "cell_type": "code",
   "execution_count": 73,
   "metadata": {},
   "outputs": [],
   "source": [
    "logreg_pred_probs = logreg_grid_search.predict_proba(X_test_reduced)"
   ]
  },
  {
   "cell_type": "code",
   "execution_count": 74,
   "metadata": {},
   "outputs": [],
   "source": [
    "# Assign the above probabilities to the corresponding class ('no', 'yes')\n",
    "logreg_y_pred = logreg_grid_search.predict(X_test_reduced)"
   ]
  },
  {
   "cell_type": "markdown",
   "metadata": {},
   "source": [
    "And finally we can evaluate the model's performance and visualize the results, similar to what we did for the Random Forests algorithm."
   ]
  },
  {
   "cell_type": "code",
   "execution_count": 75,
   "metadata": {},
   "outputs": [
    {
     "name": "stdout",
     "output_type": "stream",
     "text": [
      "Confusion matrix:\n",
      "\n",
      " [[5065 2200]\n",
      " [ 277  694]]\n"
     ]
    },
    {
     "data": {
      "image/png": "[encoded data removed]",
      "text/plain": [
       "<Figure size 576x432 with 2 Axes>"
      ]
     },
     "metadata": {},
     "output_type": "display_data"
    },
    {
     "name": "stdout",
     "output_type": "stream",
     "text": [
      "The precision is: 23.98 %\n",
      "The recall is: 71.47 %\n"
     ]
    },
    {
     "data": {
      "text/plain": [
       "array([[5065, 2200],\n",
       "       [ 277,  694]], dtype=int64)"
      ]
     },
     "execution_count": 75,
     "metadata": {},
     "output_type": "execute_result"
    }
   ],
   "source": [
    "# Evaluate the model by using Recall/Precission:\n",
    "getModelEvaluationMetrics(classifier=logreg_grid_search, model_name='Logistic Regression', x_test=X_test_reduced,\n",
    "                              y_test=y_test, y_predicted=logreg_y_pred, plot_confusion_matrix=True, figsize=(8,6))"
   ]
  },
  {
   "cell_type": "code",
   "execution_count": 76,
   "metadata": {},
   "outputs": [
    {
     "data": {
      "image/png": "[encoded data removed]",
      "text/plain": [
       "<Figure size 576x432 with 1 Axes>"
      ]
     },
     "metadata": {},
     "output_type": "display_data"
    },
    {
     "name": "stdout",
     "output_type": "stream",
     "text": [
      "Logistic Regression - ROC AUC score: 0.7692\n"
     ]
    },
    {
     "data": {
      "text/plain": [
       "0.7692"
      ]
     },
     "execution_count": 76,
     "metadata": {},
     "output_type": "execute_result"
    }
   ],
   "source": [
    "# Evaluate the model by using ROC Curve:\n",
    "createROCAnalysis(classifier=logreg_grid_search, model_name='Logistic Regression', y_test=y_test,\n",
    "                  pred_probs=logreg_pred_probs, plot_ROC_Curve=True, figsize=(8,6))"
   ]
  },
  {
   "cell_type": "markdown",
   "metadata": {},
   "source": [
    "Logistic Regression results:\n",
    " \n",
    "- Overall, this classifier performed worse than the Random Forest, where we used all 20 predictor variables\n",
    "- Performed better at capturing the minority class (i.e. clients who ended up subscribing)\n",
    "- But at the same time it made more mistakes by classifying clients who did not subscribe as ‘subscribed’\n"
   ]
  },
  {
   "cell_type": "markdown",
   "metadata": {},
   "source": [
    "<a id='model_comparison'></a>\n",
    "## Part 5 - Model Comparison and Final Thoughts"
   ]
  },
  {
   "cell_type": "markdown",
   "metadata": {},
   "source": [
    "At this final part of this project, we will focus on comparing the two classification algorithms output. We can summarize our observations as presented below:\n",
    "\n",
    "1. The first model (Random Forest) performed better at predicting clients who will not subscribe for the product\n",
    "\n",
    "2. The dataset is small in size and we can leverage the power of Random Forests (Model A), but we have to remove variables like ‘duration’, as they are unrealistic for a real-world scenario\n",
    "\n",
    "3. Logistic Regression was better at capturing the cases where clients did subscribe for the product, but was more prompt at classifying client who did not intend to subscribe as ‘subscribed’\n",
    "\n",
    "4. Logistic Regression contained only a subset of the variables from the feature space, and thus it's possible that we are losing important information by this limitation\n",
    "\n",
    "From the above we can infer that, if a data scientist/analyst cares equally about predicting accurately both classes then he/she should go with the random forest algorithm.On the other hand, if our business purpose is to accurately identify as many ‘subscribed’ clients as possible, then we should pick the logistic regression model.\n",
    "\n"
   ]
  },
  {
   "cell_type": "markdown",
   "metadata": {},
   "source": [
    "Some ideas for further research in future iterations of the project:\n",
    "    \n",
    "- Use imputation methods for the columns that have ‘unknown’ values, and observe if it affects the output\n",
    "\n",
    "- Try dimensionality reduction techniques (e.g. for the socioeconomics features that were highly correlated)\n",
    "\n",
    "- Test more complex types of classifiers (e.g. XGboost)"
   ]
  }
 ],
 "metadata": {
  "kernelspec": {
   "display_name": "Python 3",
   "language": "python",
   "name": "python3"
  },
  "language_info": {
   "codemirror_mode": {
    "name": "ipython",
    "version": 3
   },
   "file_extension": ".py",
   "mimetype": "text/x-python",
   "name": "python",
   "nbconvert_exporter": "python",
   "pygments_lexer": "ipython3",
   "version": "3.6.5"
  }
 },
 "nbformat": 4,
 "nbformat_minor": 2
}
