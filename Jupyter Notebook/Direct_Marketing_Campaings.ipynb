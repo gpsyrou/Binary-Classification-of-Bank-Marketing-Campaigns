{
 "cells": [
  {
   "cell_type": "markdown",
   "metadata": {},
   "source": [
    "# Title: Binary classification of subscriptions for direct marketing campaigns: A logistic regression & random forest approach\n",
    "### Author: Georgios Spyrou (georgios.spyrou1@gmail.com)\n",
    "### Completion Date: 04/08/2020"
   ]
  },
  {
   "cell_type": "markdown",
   "metadata": {},
   "source": [
    "## Project Description"
   ]
  },
  {
   "cell_type": "markdown",
   "metadata": {},
   "source": [
    "Purpose of this project is to analyze a dataset containing information about marketing campaigns that were conducted via phone calls from a Portuguese banking institution to their clients. Main goal of these campaigns was to attempt and persuade their clients to subscribe to a specific product (bank term deposit). At the end of each call the client was either ended up subscibing to the product (successful campaing) or not (unsuccessful campaing). The dataset contains 21 features (columns) and 41188 instances of calls to clients (rows). Please note that there are cases where the same client was contacted multiple times - something that practically doesn't affect our analysis as each call is being considered indipendent from another. If a client has been contacted multiple times is being captured in the features, as presented below:"
   ]
  },
  {
   "cell_type": "markdown",
   "metadata": {},
   "source": [
    "### Variables\n",
    "\n",
    "The predictor variables (features) contained in the dataset and that we will use in order to predict the probability that a client will subscribe for the product, can be divided into 5 sections:\n",
    "\n",
    "1. Features describing the bank client:\n",
    "\n",
    "    a. **age** <br>\n",
    "    b. **job**: type of job <br>\n",
    "    c. **marital**: marital status <br>\n",
    "    d. **education**: education level <br>\n",
    "    e. **default**: has credit in default? <br>\n",
    "    f. **housing**: has housing loan? <br>\n",
    "    g. **loan**: has personal loan?<br>\n",
    "    <br>\n",
    "2. Features related to the last contact of the current campaign:\n",
    "    a. **contact**: contact communication type <br>\n",
    "    b. **month**: last contact month of year <br>\n",
    "    c. **day_of_week**: last contact day of the week <br>\n",
    "    d. **duration**: last contact duration, in seconds <br>\n",
    "    <br>\n",
    "3. Other features related to the campaign(s):\n",
    "    a. **campaign**: # of contacts performed during this campaign and for this client <br>\n",
    "    b. **pdays**: # of days that passed by after the client was last contacted from a previous campaign <br>\n",
    "    c. **previous**: # of contacts performed before this campaign and for this client <br>\n",
    "    d. **poutcome**: outcome of the previous marketing campaign <br>\n",
    "    <br>   \n",
    "4. Social and Economic features:\n",
    "    a. **emp.var.rate**: employement variation rate - quarterly indicator <br>\n",
    "    b. **cons.price.idx**: consumer price index - monthly indicator <br>\n",
    "    c. **cons.conf.idx**: consumer confidence index - monthly indicator <br>\n",
    "    d. **euribor3m**: euribor 3 month rate - daily indicator <br>\n",
    "    e. **nr.employed**: # of employees - quarterly indicator <br>\n",
    "      \n",
    "Of course we can also observe the variable **subscribed** which is the target variable for our project, indicating if the client subscribed to the product ('yes') or not ('no')."
   ]
  },
  {
   "cell_type": "markdown",
   "metadata": {},
   "source": [
    "### Part 1 - Data import and cleaning"
   ]
  },
  {
   "cell_type": "code",
   "execution_count": null,
   "metadata": {},
   "outputs": [],
   "source": []
  }
 ],
 "metadata": {
  "kernelspec": {
   "display_name": "Python 3",
   "language": "python",
   "name": "python3"
  },
  "language_info": {
   "codemirror_mode": {
    "name": "ipython",
    "version": 3
   },
   "file_extension": ".py",
   "mimetype": "text/x-python",
   "name": "python",
   "nbconvert_exporter": "python",
   "pygments_lexer": "ipython3",
   "version": "3.6.5"
  }
 },
 "nbformat": 4,
 "nbformat_minor": 2
}